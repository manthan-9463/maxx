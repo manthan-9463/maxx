{
 "cells": [
  {
   "cell_type": "raw",
   "id": "00bfdc13-c19a-4167-a9bc-b7dda10df8a8",
   "metadata": {},
   "source": [
    "# 1) What are the types of Applications?\n",
    "=>\n",
    "-Web Development: Building websites and web applications (e.g., Django, Flask).\n",
    "-Data Science & Analytics: Data processing, analysis, and visualization (e.g., Pandas, NumPy, Matplotlib).\n",
    "-Machine Learning & AI: Building models for predictions and AI (e.g., TensorFlow, PyTorch, scikit-learn).\n",
    "-Scripting & Automation: Automating repetitive tasks (e.g., file handling, web scraping with BeautifulSoup).\n",
    "-Game Development: Creating 2D and simple games (e.g., Pygame).\n",
    "-Desktop GUI Applications: Building desktop apps (e.g., Tkinter, PyQt).\n",
    "-Networking: Developing network applications and handling protocols (e.g., socket programming).\n",
    "-Embedded Systems & IoT: Programming for small devices (e.g., MicroPython on microcontrollers).\n",
    "-Scientific & Numeric Computing: Complex calculations and simulations (e.g., SciPy).\n",
    "-Cybersecurity: Writing scripts for penetration testing and security analysis (e.g., Scapy).\n"
   ]
  },
  {
   "cell_type": "raw",
   "id": "d970cdbf-00b2-464b-81aa-c31b0d3c14e8",
   "metadata": {},
   "source": [
    "# 2) What is programing?\n",
    "=>\n",
    "-Programming is the process of writing instructions (called code) for computers to execute. It involves creating sequences of commands and logic to solve problems, automate tasks, or create applications. Through programming, developers use languages like Python, Java, or C++ to build software, websites, games, and other digital systems."
   ]
  },
  {
   "cell_type": "raw",
   "id": "f76c08eb-3f12-4989-9b5f-1e9543b864ac",
   "metadata": {},
   "source": [
    "# 3) What is Python?\n",
    "=>\n",
    "-Python is a popular programming language. It was created by Guido van Rossum, and released in 1991.\n",
    "\n",
    "It is used for:\n",
    "\n",
    "web development (server-side),\n",
    "software development,\n",
    "mathematics,\n",
    "system scripting."
   ]
  },
  {
   "cell_type": "code",
   "execution_count": 1,
   "id": "c6c863ac-94b7-44a0-a4b8-0ae167b88e26",
   "metadata": {},
   "outputs": [
    {
     "name": "stdin",
     "output_type": "stream",
     "text": [
      "Enter a number:  5\n"
     ]
    },
    {
     "name": "stdout",
     "output_type": "stream",
     "text": [
      "The number is positive.\n"
     ]
    }
   ],
   "source": [
    "# 4)  Write a Python program to check if a number is positive, negative or zero.\n",
    "\n",
    "# for user to enter number\n",
    "number = float(input(\"Enter a number: \"))\n",
    "\n",
    "# condition to check number\n",
    "if number > 0:\n",
    "    print(\"The number is positive.\")\n",
    "elif number < 0:\n",
    "    print(\"The number is negative.\")\n",
    "else:\n",
    "    print(\"The number is zero.\")\n"
   ]
  },
  {
   "cell_type": "code",
   "execution_count": 3,
   "id": "e9a7784a-0146-447b-aad7-76a92304e1fb",
   "metadata": {},
   "outputs": [
    {
     "name": "stdin",
     "output_type": "stream",
     "text": [
      "Enter a number:  5\n"
     ]
    },
    {
     "name": "stdout",
     "output_type": "stream",
     "text": [
      "The factorial of 5 is: 120\n"
     ]
    }
   ],
   "source": [
    "# 5)Write a Python program to get the Factorial number of given numbers.\n",
    "\n",
    "# function for factorial\n",
    "def factorial(num):\n",
    "    # Check if the number is negative\n",
    "    if num < 0:\n",
    "        return \"Factorial is not defined for negative numbers.\"\n",
    "    # Check if the number is 0 or 1 \n",
    "    elif num == 0 or num == 1:\n",
    "        return 1\n",
    "    else:\n",
    "        # Initialize result to 1\n",
    "        result = 1\n",
    "        for i in range(2, num + 1):\n",
    "            result *= i # Multiply result by the current number\n",
    "        return result # Return the final factorial value\n",
    "\n",
    "# Prompt the user to enter a number\n",
    "number = int(input(\"Enter a number: \"))\n",
    "print(\"The factorial of\", number, \"is:\", factorial(number))\n"
   ]
  },
  {
   "cell_type": "code",
   "execution_count": 1,
   "id": "e60f7716-7842-4ab7-9b66-54dc464f163b",
   "metadata": {},
   "outputs": [
    {
     "name": "stdin",
     "output_type": "stream",
     "text": [
      "Enter the number of terms for the Fibonacci series:  5\n"
     ]
    },
    {
     "name": "stdout",
     "output_type": "stream",
     "text": [
      "Fibonacci series of 5 terms: [0, 1, 1, 2, 3]\n"
     ]
    }
   ],
   "source": [
    "# 6) Write a Python program to get the Fibonacci series of given range. \n",
    "\n",
    "def fibonacci_series(n):\n",
    "    # Initialize an empty list to store the Fibonacci sequence\n",
    "    fib_sequence = []\n",
    "    # Start with the first two numbers in the Fibonacci sequence: 0 and 1\n",
    "    a, b = 0, 1\n",
    "    # Loop until the list contains 'n' terms\n",
    "    while len(fib_sequence) < n:\n",
    "        # Append the current number to the sequence\n",
    "        fib_sequence.append(a)\n",
    "        # Update 'a' and 'b' for the next iteration\n",
    "        # 'a' takes the value of 'b', and 'b' becomes the sum of 'a' and 'b'\n",
    "        a, b = b, a + b\n",
    "    # Return the complete Fibonacci sequence\n",
    "    return fib_sequence\n",
    "\n",
    "# Prompt the user to input the number of terms for the Fibonacci series\n",
    "num_terms = int(input(\"Enter the number of terms for the Fibonacci series: \"))\n",
    "# Call the function and print the Fibonacci series\n",
    "print(\"Fibonacci series of\", num_terms, \"terms:\", fibonacci_series(num_terms))\n",
    "\n"
   ]
  },
  {
   "cell_type": "raw",
   "id": "24031f81-35aa-43f9-9755-92f746ac6083",
   "metadata": {},
   "source": [
    "# 7) How memory is managed in Python? \n",
    "=>\n",
    "In Python, memory management is handled by an internal memory manager and an automatic garbage collector.\n",
    "\n",
    "1. Memory Allocation: Python allocates memory for objects dynamically in the heap. The memory manager controls this allocation for efficient usage.\n",
    "2. Garbage Collection: Python’s garbage collector automatically frees memory for objects that are no longer in use. It uses *reference counting* and a *cyclic garbage collector* to detect and remove unused objects.\n",
    "\n",
    "This system helps Python manage memory efficiently, ensuring resources are freed up as needed without requiring manual intervention from the programmer."
   ]
  },
  {
   "cell_type": "raw",
   "id": "08b48020-250d-46c4-b614-e762084ac952",
   "metadata": {},
   "source": [
    "# 8) What is the purpose continuing statement in python?\n",
    "=>\n",
    "In Python, the continue statement is used to skip the current iteration of a loop and move to the next iteration. It is commonly used when you want to avoid executing the remaining code in a loop for a particular iteration based on a condition"
   ]
  },
  {
   "cell_type": "code",
   "execution_count": 2,
   "id": "42b505ad-2fca-4130-94d8-ae33033babab",
   "metadata": {},
   "outputs": [
    {
     "name": "stdin",
     "output_type": "stream",
     "text": [
      "Enter first number:  5\n",
      "Enter second number:  2\n"
     ]
    },
    {
     "name": "stdout",
     "output_type": "stream",
     "text": [
      "After swapping (with temp):\n",
      "First number: 2\n",
      "Second number: 5\n"
     ]
    }
   ],
   "source": [
    "# 9) Write python program that swap two number with temp variable and without temp variable. \n",
    "\n",
    "def swap_with_temp(a, b):\n",
    "    # Use a temporary variable to hold the value of 'a'\n",
    "    temp = a\n",
    "    # Assign the value of 'b' to 'a'\n",
    "    a = b\n",
    "    # Assign the value of the temporary variable (original 'a') to 'b'\n",
    "    b = temp\n",
    "    # Return the swapped values\n",
    "    return a, b\n",
    "\n",
    "# Prompt the user to input the first number\n",
    "num1 = int(input(\"Enter first number: \"))\n",
    "# Prompt the user to input the second number\n",
    "num2 = int(input(\"Enter second number: \"))\n",
    "\n",
    "# Call the swap_with_temp function to swap the values of num1 and num2\n",
    "num1, num2 = swap_with_temp(num1, num2)\n",
    "\n",
    "# Print the results after swapping\n",
    "print(\"After swapping (with temp):\")\n",
    "print(\"First number:\", num1)\n",
    "print(\"Second number:\", num2)\n",
    "\n"
   ]
  },
  {
   "cell_type": "code",
   "execution_count": 3,
   "id": "a7a219aa-ed35-41d1-a5fb-6b0bd567448f",
   "metadata": {},
   "outputs": [
    {
     "name": "stdin",
     "output_type": "stream",
     "text": [
      "Enter a number:  5\n"
     ]
    },
    {
     "name": "stdout",
     "output_type": "stream",
     "text": [
      "The number is odd.\n"
     ]
    }
   ],
   "source": [
    "# 10) Write a Python program to find whether a given number is even or odd, print out an appropriate message to the user. \n",
    "\n",
    "def check_even_odd(number):\n",
    "    # Check if the number is divisible by 2\n",
    "    if number % 2 == 0:\n",
    "        # If true, return a message indicating the number is even\n",
    "        return \"The number is even.\"\n",
    "    else:\n",
    "        # If false, return a message indicating the number is odd\n",
    "        return \"The number is odd.\"\n",
    "\n",
    "# Prompt the user to input a number\n",
    "num = int(input(\"Enter a number: \"))\n",
    "\n",
    "# Call the check_even_odd function with the user-provided number\n",
    "# and print the result\n",
    "print(check_even_odd(num))\n",
    "\n"
   ]
  },
  {
   "cell_type": "code",
   "execution_count": 5,
   "id": "af7f7617-4220-4640-9499-106b29354e79",
   "metadata": {},
   "outputs": [
    {
     "name": "stdin",
     "output_type": "stream",
     "text": [
      "Enter a letter:  L\n"
     ]
    },
    {
     "name": "stdout",
     "output_type": "stream",
     "text": [
      "The letter L is not a vowel.\n"
     ]
    }
   ],
   "source": [
    "# 11) Write a Python program to test whether a passed letter is a vowel or not. \n",
    "\n",
    "def check_vowel(letter):\n",
    "    # Define a string containing all vowels (both uppercase and lowercase)\n",
    "    vowels = 'a e i o u A E I O U'\n",
    "    # Check if the input letter is present in the vowels string\n",
    "    if letter in vowels:\n",
    "        # Return a message indicating the letter is a vowel\n",
    "        return f\"The letter {letter} is a vowel.\"\n",
    "    else:\n",
    "        # Return a message indicating the letter is not a vowel\n",
    "        return f\"The letter {letter} is not a vowel.\"\n",
    "\n",
    "# Prompt the user to input a letter\n",
    "char = input(\"Enter a letter: \")\n",
    "\n",
    "# Check if the input is a single character and is an alphabetic letter\n",
    "if len(char) == 1 and char.isalpha():\n",
    "    # Call the check_vowel function and print the result\n",
    "    print(check_vowel(char))\n",
    "else:\n",
    "    # Print an error message if the input is not valid\n",
    "    print(\"Please enter a valid single letter.\")\n",
    "\n"
   ]
  },
  {
   "cell_type": "code",
   "execution_count": 6,
   "id": "1ba919f1-9209-4160-807b-a133bb797fb0",
   "metadata": {},
   "outputs": [
    {
     "name": "stdin",
     "output_type": "stream",
     "text": [
      "Enter first integer:  5\n",
      "Enter second integer:  2\n",
      "Enter third integer:  5\n"
     ]
    },
    {
     "name": "stdout",
     "output_type": "stream",
     "text": [
      "The result is: 0\n"
     ]
    }
   ],
   "source": [
    "# 12) Write a Python program to sum of three given integers. However, if two values are equal sum will be zero. \n",
    "\n",
    "def sum_with_condition(a, b, c):\n",
    "    # Check if any two numbers are equal\n",
    "    if a == b or b == c or a == c:\n",
    "        # If any pair is equal, return 0 as the result\n",
    "        return 0\n",
    "    else:\n",
    "        # If all numbers are unique, return their sum\n",
    "        return a + b + c\n",
    "\n",
    "# Prompt the user to input the first integer\n",
    "num1 = int(input(\"Enter first integer: \"))\n",
    "# Prompt the user to input the second integer\n",
    "num2 = int(input(\"Enter second integer: \"))\n",
    "# Prompt the user to input the third integer\n",
    "num3 = int(input(\"Enter third integer: \"))\n",
    "\n",
    "# Call the sum_with_condition function with the three numbers\n",
    "result = sum_with_condition(num1, num2, num3)\n",
    "\n",
    "# Print the result of the function\n",
    "print(\"The result is:\", result)\n",
    "\n"
   ]
  },
  {
   "cell_type": "code",
   "execution_count": 7,
   "id": "0a9b1056-e882-4b5e-ab12-8cf8f58e3aaf",
   "metadata": {},
   "outputs": [
    {
     "name": "stdin",
     "output_type": "stream",
     "text": [
      "Enter first integer:  5\n",
      "Enter second integer:  2\n"
     ]
    },
    {
     "name": "stdout",
     "output_type": "stream",
     "text": [
      "False\n"
     ]
    }
   ],
   "source": [
    "# 13) Write a Python program that will return true if the two given integer values are equal or their sum or difference is 5. \n",
    "\n",
    "def check_condition(a, b):\n",
    "    # Check if the two numbers are equal\n",
    "    if a == b or a + b == 5 or abs(a - b) == 5:\n",
    "        # Return True if any of the conditions are met\n",
    "        return True\n",
    "    else:\n",
    "        # Return False if none of the conditions are met\n",
    "        return False\n",
    "\n",
    "# Prompt the user to input the first integer\n",
    "num1 = int(input(\"Enter first integer: \"))\n",
    "# Prompt the user to input the second integer\n",
    "num2 = int(input(\"Enter second integer: \"))\n",
    "\n",
    "# Call the check_condition function with the two numbers\n",
    "# and check its return value\n",
    "if check_condition(num1, num2):\n",
    "    # Print \"True\" if the function returns True\n",
    "    print(\"True\")\n",
    "else:\n",
    "    # Print \"False\" if the function returns False\n",
    "    print(\"False\")\n"
   ]
  },
  {
   "cell_type": "code",
   "execution_count": 8,
   "id": "37d9df3d-f64b-44bc-9878-33dea6436bd6",
   "metadata": {},
   "outputs": [
    {
     "name": "stdin",
     "output_type": "stream",
     "text": [
      "Enter a positive integer n:  5\n"
     ]
    },
    {
     "name": "stdout",
     "output_type": "stream",
     "text": [
      "The sum of the first 5 positive integers is: 15\n"
     ]
    }
   ],
   "source": [
    "# 14) Write a python program to sum of the first n positive integers. \n",
    "\n",
    "def sum_of_integers(n):\n",
    "    # Calculate the sum of the first n positive integers using the formula n * (n + 1) / 2\n",
    "    return n * (n + 1) // 2 \n",
    "\n",
    "# Prompt the user to input a positive integer\n",
    "n = int(input(\"Enter a positive integer n: \"))\n",
    "\n",
    "# Check if the input is a positive integer\n",
    "if n > 0:\n",
    "    # If valid, calculate the sum using the sum_of_integers function\n",
    "    result = sum_of_integers(n)\n",
    "    # Print the calculated sum\n",
    "    print(f\"The sum of the first {n} positive integers is: {result}\")\n",
    "else:\n",
    "    # Print an error message if the input is not a positive integer\n",
    "    print(\"Please enter a positive integer.\")\n",
    "\n"
   ]
  },
  {
   "cell_type": "code",
   "execution_count": 9,
   "id": "1913daa1-77d6-43d1-ba58-fbd1ccb4399e",
   "metadata": {},
   "outputs": [
    {
     "name": "stdin",
     "output_type": "stream",
     "text": [
      "Enter a string:  L\n"
     ]
    },
    {
     "name": "stdout",
     "output_type": "stream",
     "text": [
      "The length of the string is: 1\n"
     ]
    }
   ],
   "source": [
    "# 15) Write a Python program to calculate the length of a string. \n",
    "\n",
    "def string_length(s):\n",
    "    # Use the built-in len() function to calculate the length of the string\n",
    "    return len(s)\n",
    "\n",
    "# Prompt the user to input a string\n",
    "string = input(\"Enter a string: \")\n",
    "\n",
    "# Call the string_length function with the user-provided string\n",
    "# and print the result\n",
    "print(f\"The length of the string is: {string_length(string)}\")\n",
    "\n"
   ]
  },
  {
   "cell_type": "code",
   "execution_count": null,
   "id": "20192d1a-77f0-467a-adae-ca44eb583dd0",
   "metadata": {},
   "outputs": [],
   "source": [
    "# 16) Write a Python program to count the number of characters (character frequency) in a string \n",
    "\n",
    "def character_frequency(s):\n",
    "    # Initialize an empty dictionary to store character frequencies\n",
    "    freq = {}  \n",
    "    # Iterate through each character in the string\n",
    "    for char in s:\n",
    "        # If the character is already in the dictionary, increment its count\n",
    "        if char in freq:\n",
    "            freq[char] += 1  \n",
    "        else:\n",
    "            # If the character is not in the dictionary, add it with a count of 1\n",
    "            freq[char] = 1\n",
    "    # Return the dictionary containing character frequencies\n",
    "    return freq\n",
    "\n",
    "# Prompt the user to input a string\n",
    "string = input(\"Enter a string: \")\n",
    "\n",
    "# Call the character_frequency function with the input string\n",
    "result = character_frequency(string)\n",
    "\n",
    "# Print the character frequencies\n",
    "print(\"Character frequencies in the string:\")\n",
    "# Loop through the dictionary and print each character and its count\n",
    "for char, count in result.items():\n",
    "    print(f\"'{char}': {count}\")\n",
    "\n"
   ]
  },
  {
   "cell_type": "raw",
   "id": "c6fae9ea-39b6-4117-a22b-99790938f2ea",
   "metadata": {},
   "source": [
    "# 17) What are negative indexes and why are they used? \n",
    "=>\n",
    "Negative indexes in Python are used to access elements from the end of a sequence, such as a list, string, or tuple. Instead of starting from the beginning (index 0), negative indexes allow you to start counting from the last element of the sequence.\n",
    "\n",
    "Convenience: They are helpful when you want to access elements from the end of a sequence without needing to know its length.\n",
    "Readability: They make the code more concise and readable, especially when working with the last few elements of a sequence"
   ]
  },
  {
   "cell_type": "code",
   "execution_count": 1,
   "id": "e816fc96-13d1-401f-84c6-e4b74446354f",
   "metadata": {},
   "outputs": [
    {
     "name": "stdin",
     "output_type": "stream",
     "text": [
      "Enter the main string:  MANTHAN\n",
      "Enter the substring to count:  MAN\n"
     ]
    },
    {
     "name": "stdout",
     "output_type": "stream",
     "text": [
      "The substring 'MAN' occurs 1 times in the main string.\n"
     ]
    }
   ],
   "source": [
    "# 18) Write a Python program to count occurrences of a substring in a string. \n",
    "\n",
    "def count_substring_occurrences(main_string, substring):\n",
    "    # Use the built-in count() method to count how many times 'substring' appears in 'main_string'\n",
    "    return main_string.count(substring)\n",
    "\n",
    "# Prompt the user to input the main string where we will search for the substring\n",
    "string = input(\"Enter the main string: \")\n",
    "\n",
    "# Prompt the user to input the substring they want to count within the main string\n",
    "substring = input(\"Enter the substring to count: \")\n",
    "\n",
    "# Call the count_substring_occurrences function to calculate the occurrences of the substring\n",
    "occurrences = count_substring_occurrences(string, substring)\n",
    "\n",
    "# Print the result, showing how many times the substring appears in the main string\n",
    "print(f\"The substring '{substring}' occurs {occurrences} times in the main string.\")\n",
    "\n"
   ]
  },
  {
   "cell_type": "code",
   "execution_count": 2,
   "id": "9a3db5b5-d342-405e-845f-9500c69da926",
   "metadata": {},
   "outputs": [
    {
     "name": "stdin",
     "output_type": "stream",
     "text": [
      "Enter a string:  MANTHAN\n"
     ]
    },
    {
     "name": "stdout",
     "output_type": "stream",
     "text": [
      "Word frequencies in the string:\n",
      "'MANTHAN': 1\n"
     ]
    }
   ],
   "source": [
    "# 19) Write a Python program to count the occurrences of each word in a given sentence.\n",
    "\n",
    "def word_count(string):\n",
    "    # Split the input string into a list of words using space as a delimiter\n",
    "    words = string.split()\n",
    "    # Initialize an empty dictionary to store the frequency of each word\n",
    "    word_freq = {}  \n",
    "    # Loop through each word in the list of words\n",
    "    for word in words:\n",
    "        # If the word is already in the dictionary, increment its frequency\n",
    "        if word in word_freq:\n",
    "            word_freq[word] += 1\n",
    "        else:\n",
    "            # If the word is not in the dictionary, add it with a frequency of 1\n",
    "            word_freq[word] = 1 \n",
    "    # Return the dictionary containing the word frequencies\n",
    "    return word_freq\n",
    "\n",
    "# Prompt the user to input a string of text\n",
    "string = input(\"Enter a string: \")\n",
    "\n",
    "# Call the word_count function with the input string and get the word frequencies\n",
    "result = word_count(string)\n",
    "\n",
    "# Print the word frequencies in the string\n",
    "print(\"Word frequencies in the string:\")\n",
    "# Iterate over the dictionary and print each word along with its frequency\n",
    "for word, count in result.items():\n",
    "    print(f\"'{word}': {count}\")\n",
    "\n"
   ]
  },
  {
   "cell_type": "code",
   "execution_count": 3,
   "id": "2435785c-3d8b-4706-8780-7d17de225a23",
   "metadata": {},
   "outputs": [
    {
     "name": "stdin",
     "output_type": "stream",
     "text": [
      "Enter first string:  WELCOME TO PYTHON\n",
      "Enter second string:  HELLO PYTHON\n"
     ]
    },
    {
     "name": "stdout",
     "output_type": "stream",
     "text": [
      "Result after swapping first two characters: HELCOME TO PYTHON HELLO PYTHON\n"
     ]
    }
   ],
   "source": [
    "# 20) Write a Python program to get a single string from two given strings, separated by a space and swap the first two characters of each string. \n",
    "\n",
    "def swap_first_two_chars(str1, str2):\n",
    "    # Check if both strings have at least 2 characters\n",
    "    if len(str1) >= 2 and len(str2) >= 2:\n",
    "        # Swap the first two characters of each string\n",
    "        str1 = str2[:2] + str1[2:]  # Replace the first two characters of str1 with the first two of str2\n",
    "        str2 = str1[:2] + str2[2:]  # Replace the first two characters of str2 with the first two of str1\n",
    "    # Return the modified strings, joined by a space\n",
    "    return str1 + \" \" + str2\n",
    "\n",
    "# Prompt the user to input the first string\n",
    "string1 = input(\"Enter first string: \")\n",
    "# Prompt the user to input the second string\n",
    "string2 = input(\"Enter second string: \")\n",
    "\n",
    "# Call the swap_first_two_chars function to swap the first two characters of the strings\n",
    "result = swap_first_two_chars(string1, string2)\n",
    "\n",
    "# Print the result after swapping the first two characters of both strings\n",
    "print(\"Result after swapping first two characters:\", result)\n"
   ]
  },
  {
   "cell_type": "code",
   "execution_count": 4,
   "id": "3b615d4f-d5a3-4fb7-b0ee-bf6e9ee3c22c",
   "metadata": {},
   "outputs": [
    {
     "name": "stdin",
     "output_type": "stream",
     "text": [
      "Enter a string:  PYTHON\n"
     ]
    },
    {
     "name": "stdout",
     "output_type": "stream",
     "text": [
      "Modified string: PYTHONin\n"
     ]
    }
   ],
   "source": [
    "# 21) Write a Python program to add 'in' at the end of a given string (length should be at least 3). If the given string already ends with 'ing' then add 'ly' instead if the string length of the given string is less than 3, leave it unchanged. \n",
    "\n",
    "def modify_string(s):\n",
    "    # Check if the string length is less than 3\n",
    "    if len(s) < 3:\n",
    "        return s  # Return the string unchanged if its length is less than 3\n",
    "    # Check if the string ends with 'ing'\n",
    "    elif s.endswith('ing'):\n",
    "        return s + 'ly'  # If it ends with 'ing', append 'ly' to the string\n",
    "    else:\n",
    "        return s + 'in'  # If it doesn't end with 'ing', append 'in' to the string\n",
    "\n",
    "# Prompt the user to enter a string\n",
    "string = input(\"Enter a string: \")\n",
    "\n",
    "# Call the modify_string function with the user's input and store the result\n",
    "modified_string = modify_string(string)\n",
    "\n",
    "# Print the modified string\n",
    "print(\"Modified string:\", modified_string)\n",
    "\n"
   ]
  },
  {
   "cell_type": "code",
   "execution_count": 9,
   "id": "756db61f-dfd8-4824-90c8-83ae4ff6d8de",
   "metadata": {},
   "outputs": [
    {
     "name": "stdin",
     "output_type": "stream",
     "text": [
      "Enter a string:  HELO\n"
     ]
    },
    {
     "name": "stdout",
     "output_type": "stream",
     "text": [
      "Result: OLEH\n"
     ]
    }
   ],
   "source": [
    "# 22) Write a Python function to reverses a string if its length is a multiple of 4. \n",
    "\n",
    "def reverse_if_multiple_of_four(s):\n",
    "    # Check if the length of the string is a multiple of 4\n",
    "    if len(s) % 4 == 0:  \n",
    "        # If true, return the string reversed using slicing (::-1)\n",
    "        return s[::-1]  \n",
    "    else:\n",
    "        # If false, return the string unchanged\n",
    "        return s  \n",
    "\n",
    "# Prompt the user to input a string\n",
    "string = input(\"Enter a string: \")\n",
    "\n",
    "# Call the reverse_if_multiple_of_four function to check the string's length and possibly reverse it\n",
    "result = reverse_if_multiple_of_four(string)\n",
    "\n",
    "# Print the result, which is either the reversed string or the original string\n",
    "print(\"Result:\", result)\n"
   ]
  },
  {
   "cell_type": "code",
   "execution_count": 11,
   "id": "139d1562-3cd2-4528-a157-3a3d6e08e1f3",
   "metadata": {},
   "outputs": [
    {
     "name": "stdin",
     "output_type": "stream",
     "text": [
      "Enter a string:  MANTHAN\n"
     ]
    },
    {
     "name": "stdout",
     "output_type": "stream",
     "text": [
      "Result: MAAN\n"
     ]
    }
   ],
   "source": [
    "# 23) Write a Python program to get a string made of the first 2 and the last 2 chars from a given a string. If the string length is less than 2, return instead of the empty string.\n",
    "\n",
    "def first_and_last_two_chars(s):\n",
    "    # Check if the string has less than 2 characters\n",
    "    if len(s) < 2:\n",
    "        # If the string is too short, return an empty string\n",
    "        return \"\"  \n",
    "    else:\n",
    "        # If the string has 2 or more characters, return the first two and the last two characters concatenated\n",
    "        return s[:2] + s[-2:]  \n",
    "\n",
    "# Prompt the user to input a string\n",
    "string = input(\"Enter a string: \")\n",
    "\n",
    "# Call the first_and_last_two_chars function to extract the first two and last two characters of the string\n",
    "result = first_and_last_two_chars(string)\n",
    "\n",
    "# Print the result, which is the concatenation of the first two and last two characters\n",
    "print(\"Result:\", result)\n",
    "\n"
   ]
  },
  {
   "cell_type": "code",
   "execution_count": 12,
   "id": "a93433e5-8a34-4b80-8cb2-a91f005a51f8",
   "metadata": {},
   "outputs": [
    {
     "name": "stdin",
     "output_type": "stream",
     "text": [
      "Enter the original string:  WELCOME\n",
      "Enter the string to insert:  PYTHON\n"
     ]
    },
    {
     "name": "stdout",
     "output_type": "stream",
     "text": [
      "Result: WELPYTHONCOME\n"
     ]
    }
   ],
   "source": [
    "# 24) Write a Python function to insert a string in the middle of a string. \n",
    "\n",
    "def insert_in_middle(original, to_insert):\n",
    "    # Calculate the middle index of the original string\n",
    "    middle_index = len(original) // 2  \n",
    "    # Return a new string where 'to_insert' is placed in the middle of the original string\n",
    "    return original[:middle_index] + to_insert + original[middle_index:]  \n",
    "\n",
    "# Prompt the user to input the original string\n",
    "original_string = input(\"Enter the original string: \")\n",
    "\n",
    "# Prompt the user to input the string they want to insert into the original string\n",
    "insert_string = input(\"Enter the string to insert: \")\n",
    "\n",
    "# Call the insert_in_middle function to insert 'insert_string' into 'original_string'\n",
    "result = insert_in_middle(original_string, insert_string)\n",
    "\n",
    "# Print the result, which is the original string with the inserted string in the middle\n",
    "print(\"Result:\", result)\n",
    "\n"
   ]
  },
  {
   "cell_type": "raw",
   "id": "a752a7fb-273e-4ff4-892e-99e2fc53cd86",
   "metadata": {},
   "source": [
    "# 25) What is List? How will you reverse a list?\n",
    "=>\n",
    "A list in Python is an ordered collection of items which can hold elements of different data types, such as integers, strings, and other objects. Lists are mutable, meaning their contents can be changed after they are created.\n",
    "\n",
    "A list is defined by placing its elements inside square brackets [], and each element is separated by a comma.\n",
    "Lists can hold heterogeneous data, which means you can store different data types in a single list.\n",
    "\n",
    "-Reverse\n",
    "There are several ways to reverse a list in Python. Here are some common methods:\n",
    "\n",
    "1. Using the reverse() method (in-place reversal)\n",
    "This method reverses the list in place and does not return a new list.\n",
    "It modifies the original list.\n",
    "\n",
    "2. Using slicing (creates a new reversed list)\n",
    "This method creates a new list that is the reverse of the original one, leaving the original list unchanged.\n",
    "\n",
    "3. Using the reversed() function (returns an iterator)\n",
    "The reversed() function returns an iterator that can be converted into a list or used in a loop."
   ]
  },
  {
   "cell_type": "raw",
   "id": "5a2304fb-d783-48ef-8c63-45f4abd87b73",
   "metadata": {},
   "source": [
    "# 26) How will you remove last object from a list? \n",
    "=> \n",
    "1. Using the pop() method\n",
    "The pop() method removes and returns the last element from the list. If no index is specified, it defaults to removing the last item\n",
    "\n",
    "The pop() method not only removes the last element but also returns it, allowing you to capture or use the removed item.\n",
    "If the list is empty and you call pop(), it will raise an IndexError\n",
    "\n",
    "2. Using slicing\n",
    "You can also use slicing to remove the last element of the list. This does not modify the list in place, but creates a new list without the last item.\n",
    "\n",
    "This approach creates a new list that excludes the last item. The original list will be modified in the sense that it is now replaced with the new list.\n",
    "The original list remains unchanged if slicing is used on a separate variable."
   ]
  },
  {
   "cell_type": "raw",
   "id": "5b1c9ecb-7a06-4a14-9c3a-bdbc8157f31c",
   "metadata": {},
   "source": [
    "# 27) Suppose list1 is [2, 33, 222, 14, and 25], what is list1 [-1]? \n",
    "=>\n",
    "In Python, negative indexing allows you to access elements from the end of a list. So, when you use list1[-1], it refers to the last element of the list.\n",
    "\n",
    "Given that list1 = [2, 33, 222, 14, 25], here’s what happens:\n",
    "\n",
    "list1[-1] will access the last element of the list, which is 25.\n"
   ]
  },
  {
   "cell_type": "raw",
   "id": "7b04fb3d-a426-4f39-8a64-c1a8b1e9bff4",
   "metadata": {},
   "source": [
    "# 28) Differentiate between append () and extend () methods?\n",
    "=>\n",
    "The append() and extend() methods are both used to add elements to a list in Python, but they behave differently in terms of how they add elements.\n",
    "Purpose: Adds a single element to the end of the list.\n",
    "How it works: The element passed to append() is added as a single object, regardless of its type.\n",
    "Syntax: list.append(element\n",
    "\n",
    "Purpose: Adds each element from an iterable (e.g., list, tuple, string) to the end of the list individually.\n",
    "How it works: The extend() method takes an iterable (like a list, tuple, or string) and adds each of its elements to the list.\n",
    "Syntax: list.extend(iterable)"
   ]
  },
  {
   "cell_type": "code",
   "execution_count": 13,
   "id": "c197ddbf-790f-4dbb-b0f3-d9bcf44ff107",
   "metadata": {},
   "outputs": [
    {
     "name": "stdout",
     "output_type": "stream",
     "text": [
      "Largest number: 99\n",
      "Smallest number: 4\n",
      "Sum of all numbers: 178\n"
     ]
    }
   ],
   "source": [
    "# 29) Write a Python function to get the largest number, smallest num and sum of all from a list.\n",
    "\n",
    "def list_stats(numbers):\n",
    "    # Check if the input list is empty\n",
    "    if len(numbers) == 0:\n",
    "        return \"The list is empty\"  # Return a message if the list is empty\n",
    "    \n",
    "    # Find the largest number in the list using the max() function\n",
    "    largest = max(numbers)  \n",
    "    # Find the smallest number in the list using the min() function\n",
    "    smallest = min(numbers)  \n",
    "    # Calculate the sum of all numbers in the list using the sum() function\n",
    "    total_sum = sum(numbers)  \n",
    "    \n",
    "    # Return the largest, smallest, and the sum of the numbers\n",
    "    return largest, smallest, total_sum\n",
    "\n",
    "\n",
    "# Example list of numbers\n",
    "numbers = [10, 20, 4, 45, 99]\n",
    "\n",
    "# Call the list_stats function to get the largest, smallest, and sum of the list\n",
    "largest, smallest, total_sum = list_stats(numbers)\n",
    "\n",
    "# Print the largest number from the list\n",
    "print(f\"Largest number: {largest}\")\n",
    "# Print the smallest number from the list\n",
    "print(f\"Smallest number: {smallest}\")\n",
    "# Print the sum of all numbers in the list\n",
    "print(f\"Sum of all numbers: {total_sum}\")\n",
    "\n"
   ]
  },
  {
   "cell_type": "raw",
   "id": "cbda1a7c-9ff8-4989-83c3-0634b9969097",
   "metadata": {},
   "source": [
    "# 30) How will you compare two list?\n",
    "=>\n",
    "To compare two lists in Python:\n",
    "\n",
    "1.Using ==: Compares both the order and elements of the lists.\n",
    "2.Using !=: Checks if the lists are not equal.\n",
    "3.Using is: Checks if both lists reference the same object in memory.\n",
    "4.Using set(): Compares lists ignoring order and duplicates.\n",
    "5.Using sorted(): Compares lists ignoring order, considering duplicates"
   ]
  },
  {
   "cell_type": "code",
   "execution_count": 14,
   "id": "a651de52-7ece-46f6-ada8-4e609e2ec431",
   "metadata": {},
   "outputs": [
    {
     "name": "stdout",
     "output_type": "stream",
     "text": [
      "Count of strings where length >= 2 and first & last character are the same: 3\n"
     ]
    }
   ],
   "source": [
    "# 31) Write a Python program to count the number of strings where the string length is 2 or more and the first and last character are same from a given list of strings. \n",
    "\n",
    "def count_matching_strings(str_list):\n",
    "    # Initialize a counter to keep track of strings that meet the condition\n",
    "    count = 0\n",
    "    # Loop through each string in the list\n",
    "    for s in str_list:\n",
    "        # Check if the string has a length of 2 or more and if the first and last characters are the same\n",
    "        if len(s) >= 2 and s[0] == s[-1]:  \n",
    "            # If the condition is met, increment the count\n",
    "            count += 1\n",
    "    # Return the final count of matching strings\n",
    "    return count\n",
    "\n",
    "# List of strings to check\n",
    "string_list = ['aba', 'xyz', 'aa', 'a', 'ab', 'cdc']\n",
    "\n",
    "# Call the count_matching_strings function to get the number of strings that meet the condition\n",
    "result = count_matching_strings(string_list)\n",
    "\n",
    "# Print the result, showing how many strings have length >= 2 and their first & last characters are the same\n",
    "print(\"Count of strings where length >= 2 and first & last character are the same:\", result)\n",
    "\n"
   ]
  },
  {
   "cell_type": "code",
   "execution_count": 15,
   "id": "f59aed8d-da51-493c-8831-d937509a169d",
   "metadata": {},
   "outputs": [
    {
     "name": "stdout",
     "output_type": "stream",
     "text": [
      "List after removing duplicates: [1, 2, 3, 4, 5, 6]\n"
     ]
    }
   ],
   "source": [
    "# 32) Write a Python program to remove duplicates from a list. \n",
    "\n",
    "def remove_duplicates(lst):\n",
    "    # Initialize an empty list to store unique items\n",
    "    unique_list = []\n",
    "    # Initialize an empty set to keep track of items that have already been encountered\n",
    "    seen = set()\n",
    "    # Iterate through each item in the input list\n",
    "    for item in lst:\n",
    "        # If the item has not been seen before, add it to the unique list and mark it as seen\n",
    "        if item not in seen:\n",
    "            unique_list.append(item)  # Add the item to the unique list\n",
    "            seen.add(item)  # Add the item to the set of seen items\n",
    "    # Return the list of unique items\n",
    "    return unique_list\n",
    "\n",
    "# Input list with some duplicate values\n",
    "my_list = [1, 2, 2, 3, 4, 4, 5, 6, 6]\n",
    "\n",
    "# Call the remove_duplicates function to get the list with duplicates removed\n",
    "unique_list = remove_duplicates(my_list)\n",
    "\n",
    "# Print the result after removing duplicates from the list\n",
    "print(\"List after removing duplicates:\", unique_list)\n",
    "\n"
   ]
  },
  {
   "cell_type": "code",
   "execution_count": 16,
   "id": "0f77b923-4453-4079-a110-cf6309ef6140",
   "metadata": {},
   "outputs": [
    {
     "name": "stdout",
     "output_type": "stream",
     "text": [
      "list 1 empty= True\n",
      "list 2 empty= False\n"
     ]
    }
   ],
   "source": [
    "# 33) Write a Python program to check a list is empty or not.\n",
    "\n",
    "def is_empty(lst):\n",
    "    # Check if the length of the list is 0\n",
    "    return len(lst) == 0  # If the list is empty, return True, otherwise return False\n",
    "\n",
    "# Example of an empty list\n",
    "list1 = []\n",
    "# Example of a non-empty list\n",
    "list2 = [1, 2, 3]\n",
    "\n",
    "# Check if list1 is empty and print the result\n",
    "print(\"list 1 empty=\", is_empty(list1))  \n",
    "# Check if list2 is empty and print the result\n",
    "print(\"list 2 empty=\", is_empty(list2))  \n",
    " \n"
   ]
  },
  {
   "cell_type": "code",
   "execution_count": 17,
   "id": "671e6c29-e7c7-47e4-b44d-5242417918c5",
   "metadata": {},
   "outputs": [
    {
     "name": "stdout",
     "output_type": "stream",
     "text": [
      "Do the lists have at least one common member? True\n"
     ]
    }
   ],
   "source": [
    "# 34) Write a Python function that takes two lists and returns true if they have at least one common member.\n",
    "\n",
    "def have_common_member(list1, list2):\n",
    "    # Convert both lists to sets and check if they have any common elements using the intersection (&) operator\n",
    "    return bool(set(list1) & set(list2))  # Return True if there's at least one common element, otherwise False\n",
    "\n",
    "# Example lists with some common and some different elements\n",
    "list1 = [1, 2, 3, 4]\n",
    "list2 = [3, 4, 5, 6]\n",
    "\n",
    "# Call the function to check if the two lists have any common members\n",
    "result = have_common_member(list1, list2)\n",
    "\n",
    "# Print the result, showing whether the lists share at least one common element\n",
    "print(\"Do the lists have at least one common member?\", result)\n"
   ]
  },
  {
   "cell_type": "code",
   "execution_count": 18,
   "id": "09193491-0811-4e49-b34e-9ea74859cbb3",
   "metadata": {},
   "outputs": [
    {
     "name": "stdout",
     "output_type": "stream",
     "text": [
      "First 5 elements: [1, 4, 9, 16, 25]\n",
      "Last 5 elements: [676, 729, 784, 841, 900]\n"
     ]
    }
   ],
   "source": [
    "# 35) Write a Python program to generate and print a list of first and last 5 elements where the values are square of numbers between 1 and 30. \n",
    "\n",
    "def generate_squares():\n",
    "    # Generate a list of squares of numbers from 1 to 30 using a list comprehension\n",
    "    squares = [i**2 for i in range(1, 31)]\n",
    "    \n",
    "    # Extract the first 5 elements from the list of squares\n",
    "    first_five = squares[:5]\n",
    "    # Extract the last 5 elements from the list of squares\n",
    "    last_five = squares[-5:]\n",
    "    \n",
    "    # Return the first and last five squares\n",
    "    return first_five, last_five\n",
    "\n",
    "# Call the function to get the first and last five elements of the squares list\n",
    "first_five, last_five = generate_squares()\n",
    "\n",
    "# Print the first 5 squares\n",
    "print(\"First 5 elements:\", first_five)\n",
    "# Print the last 5 squares\n",
    "print(\"Last 5 elements:\", last_five)\n",
    "\n",
    "\n"
   ]
  },
  {
   "cell_type": "code",
   "execution_count": 19,
   "id": "bba62a4a-0035-4e5c-976e-71347a838f38",
   "metadata": {},
   "outputs": [
    {
     "name": "stdout",
     "output_type": "stream",
     "text": [
      "List with unique elements: [1, 2, 3, 4, 5, 6]\n"
     ]
    }
   ],
   "source": [
    "# 36) Write a Python function that takes a list and returns a new list with unique elements of the first list.\n",
    "\n",
    "def get_unique_elements(lst):\n",
    "    # Convert the list to a set to remove duplicates, then convert it back to a list\n",
    "    return list(set(lst))  # The set removes duplicates, and list() converts the set back to a list\n",
    "\n",
    "# Example input list with some duplicate values\n",
    "input_list = [1, 2, 2, 3, 4, 4, 5, 6, 6]\n",
    "\n",
    "# Call the get_unique_elements function to remove duplicates from the input list\n",
    "unique_list = get_unique_elements(input_list)\n",
    "\n",
    "# Print the result, which is the input list with duplicates removed\n",
    "print(\"List with unique elements:\", unique_list)\n"
   ]
  },
  {
   "cell_type": "code",
   "execution_count": 20,
   "id": "a6cd56f8-92ca-413d-b531-4320ef97f7e7",
   "metadata": {},
   "outputs": [
    {
     "name": "stdout",
     "output_type": "stream",
     "text": [
      "Converted string: Hello\n"
     ]
    }
   ],
   "source": [
    "# 37) Write a Python program to convert a list of characters into a string.\n",
    "\n",
    "def list_to_string(char_list):\n",
    "    # Use the join() method to concatenate the elements of the list into a single string\n",
    "    return ''.join(char_list)  # The empty string '' is used as the separator to join the characters\n",
    "\n",
    "# Example list of characters\n",
    "char_list = ['H', 'e', 'l', 'l', 'o']\n",
    "\n",
    "# Call the list_to_string function to convert the list of characters into a string\n",
    "result_string = list_to_string(char_list)\n",
    "\n",
    "# Print the resulting string\n",
    "print(\"Converted string:\", result_string)\n",
    "\n"
   ]
  },
  {
   "cell_type": "code",
   "execution_count": 21,
   "id": "1a2d0fc6-9ab4-428c-819b-f212ed6ff6d5",
   "metadata": {},
   "outputs": [
    {
     "name": "stdout",
     "output_type": "stream",
     "text": [
      "Randomly selected item: 9\n"
     ]
    }
   ],
   "source": [
    "# 38) Write a Python program to select an item randomly from a list. \n",
    "\n",
    "import random  # Import the random module to use random selection functions\n",
    "\n",
    "def select_random_item(lst):\n",
    "    # Use random.choice() to select a random item from the given list\n",
    "    return random.choice(lst)  # This returns a randomly selected element from the list\n",
    "\n",
    "# Example list from which a random item will be selected\n",
    "my_list = [1, 2, 3, 4, 5, 6, 7, 8, 9]\n",
    "\n",
    "# Call the select_random_item function to randomly select an item from the list\n",
    "random_item = select_random_item(my_list)\n",
    "\n",
    "# Print the randomly selected item from the list\n",
    "print(\"Randomly selected item:\", random_item)\n",
    "\n"
   ]
  },
  {
   "cell_type": "code",
   "execution_count": 22,
   "id": "968e7ed6-7b06-4816-aca3-37974733d94f",
   "metadata": {},
   "outputs": [
    {
     "name": "stdout",
     "output_type": "stream",
     "text": [
      "Second smallest number: 10\n"
     ]
    }
   ],
   "source": [
    "# 39) Write a Python program to find the second smallest number in a list. \n",
    "\n",
    "def second_smallest(lst):\n",
    "    # Convert the list to a set to remove duplicates, and then sort it in ascending order\n",
    "    unique_lst = sorted(set(lst))  \n",
    "    \n",
    "    # Check if there are at least two unique elements\n",
    "    if len(unique_lst) >= 2:\n",
    "        return unique_lst[1]  # Return the second smallest element\n",
    "    else:\n",
    "        return \"List does not have a second smallest element\"  # Return a message if there's no second smallest element\n",
    "\n",
    "# Example list with some repeated elements\n",
    "my_list = [12, 35, 1, 10, 34, 1]\n",
    "\n",
    "# Call the second_smallest function to get the second smallest unique element\n",
    "result = second_smallest(my_list)\n",
    "\n",
    "# Print the result, which will be the second smallest element or a message if it doesn't exist\n",
    "print(\"Second smallest number:\", result)\n",
    "\n"
   ]
  },
  {
   "cell_type": "code",
   "execution_count": 23,
   "id": "4b8400d4-4965-4c1d-bf5b-5f17cb700f25",
   "metadata": {},
   "outputs": [
    {
     "name": "stdout",
     "output_type": "stream",
     "text": [
      "Unique values from the list: [1, 2, 3, 4, 5, 6]\n"
     ]
    }
   ],
   "source": [
    "# 40) Write a Python program to get unique values from a list \n",
    "\n",
    "def get_unique_values(lst):\n",
    "    # Convert the list to a set to remove duplicates, then convert the set back to a list\n",
    "    return list(set(lst))  # The set removes duplicates, and list() converts it back to a list\n",
    "\n",
    "# Example list with some duplicate values\n",
    "my_list = [1, 2, 2, 3, 4, 4, 5, 6, 6]\n",
    "\n",
    "# Call the get_unique_values function to remove duplicates from the list\n",
    "unique_values = get_unique_values(my_list)\n",
    "\n",
    "# Print the resulting list that contains only the unique values\n",
    "print(\"Unique values from the list:\", unique_values)\n"
   ]
  },
  {
   "cell_type": "code",
   "execution_count": 24,
   "id": "0119db18-883b-4583-92dd-f17b269d3340",
   "metadata": {},
   "outputs": [
    {
     "name": "stdout",
     "output_type": "stream",
     "text": [
      "Contain the sublist? True\n"
     ]
    }
   ],
   "source": [
    "# 41) Function to check if a list contains a sublist\n",
    "\n",
    "def contains_sublist(main_list, sublist):\n",
    "    # Use the any() function with a generator expression to check if any subsequence in the main list matches the sublist\n",
    "    return any(main_list[i:i+len(sublist)] == sublist for i in range(len(main_list)-len(sublist)+1))\n",
    "\n",
    "# Example main list and sublist\n",
    "main_list = [1, 2, 3, 4, 5, 6]\n",
    "sublist = [3, 4, 5]\n",
    "\n",
    "# Call the contains_sublist function to check if the sublist is present in the main list\n",
    "result = contains_sublist(main_list, sublist)\n",
    "\n",
    "# Print the result, which is a boolean indicating whether the sublist exists in the main list\n",
    "print(\"Contain the sublist?\", result)\n",
    "\n"
   ]
  },
  {
   "cell_type": "code",
   "execution_count": 25,
   "id": "f67dbfaf-3f49-4c54-947c-51f2527c492c",
   "metadata": {},
   "outputs": [
    {
     "name": "stdout",
     "output_type": "stream",
     "text": [
      "a: 1\n",
      "b: 2\n",
      "c: 3\n",
      "d: 4\n"
     ]
    }
   ],
   "source": [
    "# 42) Write a Python program to split a list into different variables. \n",
    "\n",
    "# Given list with 5 elements\n",
    "my_list = [1, 2, 3, 4, 5]\n",
    "\n",
    "# Unpacking the list into individual variables\n",
    "a, b, c, d, e = my_list  # The list elements are assigned to variables a, b, c, d, and e\n",
    "\n",
    "# Printing each variable with its assigned value\n",
    "print(\"a:\", a)  # Prints the value of 'a' (1)\n",
    "print(\"b:\", b)  # Prints the value of 'b' (2)\n",
    "print(\"c:\", c)  # Prints the value of 'c' (3)\n",
    "print(\"d:\", d)  # Prints the value of 'd' (4)\n",
    "\n"
   ]
  },
  {
   "cell_type": "raw",
   "id": "55f1034a-05b6-4792-9ffd-b2cbb80e0ce5",
   "metadata": {},
   "source": [
    "# 43) )What is tuple? Difference between list and tuple. \n",
    "=>\n",
    "A tuple is a built-in data structure in Python that can hold a collection of ordered, immutable items. Once a tuple is created, its elements cannot be modified, making it ideal for storing data that should remain constant.\n",
    "\n",
    "Aspect\t                     List\t                                                  Tuple\n",
    "Mutability\t       Mutable (can be changed).\t                         Immutable (cannot be changed).\n",
    "Syntax\t           Defined with square brackets []. \t                 Defined with parentheses ().\n",
    "Performance\t       Slower due to mutability.\t                         Faster due to immutability.\n",
    "Use Cases      \t   Suitable for dynamic data.\t                         Suitable for fixed/static data.\n",
    "Methods\t           Has more built-in methods (e.g., append, remove). \t Fewer methods (e.g., count, index).\n",
    "Memory Usage\t   Consumes more memory.\t                             Consumes less memory."
   ]
  },
  {
   "cell_type": "code",
   "execution_count": 26,
   "id": "726cd124-e448-43d6-a14d-288e5d1305f4",
   "metadata": {},
   "outputs": [
    {
     "name": "stdout",
     "output_type": "stream",
     "text": [
      "Tuple with different data types: (42, 'hello', 3.14, True, [1, 2, 3], {'key': 'value'}, (7, 8))\n",
      "Element at index 0 is 42 of type <class 'int'>\n",
      "Element at index 1 is hello of type <class 'str'>\n",
      "Element at index 2 is 3.14 of type <class 'float'>\n",
      "Element at index 3 is True of type <class 'bool'>\n",
      "Element at index 4 is [1, 2, 3] of type <class 'list'>\n",
      "Element at index 5 is {'key': 'value'} of type <class 'dict'>\n",
      "Element at index 6 is (7, 8) of type <class 'tuple'>\n"
     ]
    }
   ],
   "source": [
    "# 44) Write a Python program to create a tuple with different data types. \n",
    "\n",
    "# Defining a tuple with various data types (integer, string, float, boolean, list, dictionary, and another tuple)\n",
    "mixed_tuple = (42, \"hello\", 3.14, True, [1, 2, 3], {\"key\": \"value\"}, (7, 8))\n",
    "\n",
    "# Printing the entire tuple to show its contents\n",
    "print(\"Tuple with different data types:\", mixed_tuple)\n",
    "\n",
    "# Loop through the tuple using enumerate() to get both index and item\n",
    "for index, item in enumerate(mixed_tuple):\n",
    "    # Print the index, item, and the type of the item using type()\n",
    "    print(f\"Element at index {index} is {item} of type {type(item)}\")\n",
    "\n"
   ]
  },
  {
   "cell_type": "code",
   "execution_count": 27,
   "id": "267f971b-6116-4fe0-8116-885ee97a04e4",
   "metadata": {},
   "outputs": [
    {
     "name": "stdout",
     "output_type": "stream",
     "text": [
      "List 1: [1, 2, 3, 4]\n",
      "List 2: ['a', 'b', 'c', 'd']\n"
     ]
    }
   ],
   "source": [
    "# 45) Write a Python program to unzip a list of tuples into individual lists. \n",
    "\n",
    "# Defining a list of tuples, where each tuple contains an integer and a string\n",
    "tuple_list = [(1, 'a'), (2, 'b'), (3, 'c'), (4, 'd')]\n",
    "\n",
    "# Using the zip function with unpacking (*) to separate the elements of the tuples\n",
    "# zip(*tuple_list) essentially \"unzips\" the list of tuples into two separate lists\n",
    "list1, list2 = zip(*tuple_list)\n",
    "\n",
    "# Converting the results of zip (which are tuples) into lists\n",
    "list1 = list(list1)\n",
    "list2 = list(list2)\n",
    "\n",
    "# Printing the unzipped lists\n",
    "print(\"List 1:\", list1)  # List 1 will contain the integers: [1, 2, 3, 4]\n",
    "print(\"List 2:\", list2)  # List 2 will contain the characters: ['a', 'b', 'c', 'd']\n",
    "\n"
   ]
  },
  {
   "cell_type": "code",
   "execution_count": 28,
   "id": "d1215d7f-10ca-47b1-a67e-2b912f723b5f",
   "metadata": {},
   "outputs": [
    {
     "name": "stdout",
     "output_type": "stream",
     "text": [
      "Converted dictionary: {'name': 'manthan', 'age': 25, 'city': 'ahmedabad'}\n"
     ]
    }
   ],
   "source": [
    "# 46) Write a Python program to convert a list of tuples into a dictionary. \n",
    "\n",
    "# List of tuples where each tuple contains a key-value pair\n",
    "list_of_tuples = [(\"name\", \"manthan\"), (\"age\", 25), (\"city\", \"ahmedabad\")]\n",
    "\n",
    "# Converting the list of tuples into a dictionary using the dict() function\n",
    "dictionary = dict(list_of_tuples)\n",
    "\n",
    "# Printing the converted dictionary\n",
    "print(\"Converted dictionary:\", dictionary)\n"
   ]
  },
  {
   "cell_type": "raw",
   "id": "8a33dd21-646e-4c79-9439-ac49afff38aa",
   "metadata": {},
   "source": [
    "# 47) How will you create a dictionary using tuples in python? \n",
    "=>\n",
    "The dict() constructor takes an iterable of tuples where each tuple has two elements.\n",
    "The first element becomes the key, and the second becomes the value in the dictionary\n"
   ]
  },
  {
   "cell_type": "code",
   "execution_count": 29,
   "id": "4ed3538f-cf0a-4954-8ee0-d49d78802c11",
   "metadata": {},
   "outputs": [
    {
     "name": "stdout",
     "output_type": "stream",
     "text": [
      "Original Dictionary: {'apple': 3, 'banana': 1, 'cherry': 5, 'date': 2}\n",
      "Ascending Order: {'banana': 1, 'date': 2, 'apple': 3, 'cherry': 5}\n",
      "Descending Order: {'cherry': 5, 'apple': 3, 'date': 2, 'banana': 1}\n"
     ]
    }
   ],
   "source": [
    "# 48) Write a Python script to sort (ascending and descending) a dictionary by value.\n",
    "\n",
    "# Define a dictionary with fruit names as keys and quantities as values\n",
    "my_dict = {\"apple\": 3, \"banana\": 1, \"cherry\": 5, \"date\": 2}\n",
    "\n",
    "# Sorting the dictionary items in ascending order based on the value (second item of the tuple)\n",
    "# 'key=lambda item: item[1]' sorts by the second element (the quantity) of each key-value pair\n",
    "ascending = dict(sorted(my_dict.items(), key=lambda item: item[1]))\n",
    "\n",
    "# Sorting the dictionary items in descending order based on the value (second item of the tuple)\n",
    "# 'reverse=True' sorts the items in reverse (highest to lowest) based on the value\n",
    "descending = dict(sorted(my_dict.items(), key=lambda item: item[1], reverse=True))\n",
    "\n",
    "# Printing the original dictionary\n",
    "print(\"Original Dictionary:\", my_dict)\n",
    "\n",
    "# Printing the dictionary sorted in ascending order based on the values\n",
    "print(\"Ascending Order:\", ascending)\n",
    "\n",
    "# Printing the dictionary sorted in descending order based on the values\n",
    "print(\"Descending Order:\", descending)\n",
    "\n"
   ]
  },
  {
   "cell_type": "code",
   "execution_count": 30,
   "id": "a940d943-ea22-4ea4-b994-90b6aea933eb",
   "metadata": {},
   "outputs": [
    {
     "name": "stdout",
     "output_type": "stream",
     "text": [
      "Concatenated Dictionary: {'a': 1, 'b': 2, 'c': 3, 'd': 4, 'e': 5, 'f': 6}\n"
     ]
    }
   ],
   "source": [
    "# 49) Write a Python script to concatenate following dictionaries to create a new one. \n",
    "\n",
    "# Define three dictionaries with key-value pairs\n",
    "dict1 = {\"a\": 1, \"b\": 2}\n",
    "dict2 = {\"c\": 3, \"d\": 4}\n",
    "dict3 = {\"e\": 5, \"f\": 6}\n",
    "\n",
    "# Create a copy of dict1 to avoid modifying the original dict1\n",
    "concatenated_dict = dict1.copy()\n",
    "\n",
    "# Update the copied dictionary with the key-value pairs from dict2\n",
    "concatenated_dict.update(dict2)\n",
    "\n",
    "# Update the copied dictionary further with the key-value pairs from dict3\n",
    "concatenated_dict.update(dict3)\n",
    "\n",
    "# Print the concatenated dictionary containing elements from all three dictionaries\n",
    "print(\"Concatenated Dictionary:\", concatenated_dict)\n",
    "\n"
   ]
  },
  {
   "cell_type": "code",
   "execution_count": 31,
   "id": "640fed5e-c984-407e-9b7b-8f288272e404",
   "metadata": {},
   "outputs": [
    {
     "name": "stdout",
     "output_type": "stream",
     "text": [
      "The key 'age' exists in the dictionary.\n"
     ]
    }
   ],
   "source": [
    "# 50) Write a Python script to check if a given key already exists in a dictionary.\n",
    "\n",
    "# Define a dictionary with key-value pairs\n",
    "my_dict = {\"name\": \"Alice\", \"age\": 25, \"city\": \"New York\"}\n",
    "\n",
    "# Define the key that you want to check in the dictionary\n",
    "key_to_check = \"age\"\n",
    "\n",
    "# Check if the specified key exists in the dictionary\n",
    "if key_to_check in my_dict:\n",
    "    # If the key exists, print a confirmation message\n",
    "    print(f\"The key '{key_to_check}' exists in the dictionary.\")\n",
    "else:\n",
    "    # If the key does not exist, print a message stating that\n",
    "    print(f\"The key '{key_to_check}' does not exist in the dictionary.\")\n",
    "\n"
   ]
  },
  {
   "cell_type": "raw",
   "id": "3b6d2ca2-6923-4c98-be9a-9791f1735bfd",
   "metadata": {},
   "source": [
    "# 51) How Do You Traverse Through a Dictionary Object in Python? \n",
    "\n",
    "To traverse a dictionary in Python, you can iterate over its keys, values, or key-value pairs:\n",
    "\n",
    "my_dict = \" man \"\n",
    "Keys:\n",
    "for key in my_dict:\n",
    "    print(key)\n",
    "\n",
    "Values:\n",
    "for value in my_dict.values():\n",
    "    print(value)\n",
    "\n",
    "Key-Value Pairs:\n",
    "for key, value in my_dict.items():\n",
    "    print(key, value)\n",
    "\n",
    "Sorted Keys:\n",
    "for key in sorted(my_dict):\n",
    "    print(key, my_dict[key])\n",
    "    \n",
    "These methods allow you to efficiently access and process dictionary elements.\n"
   ]
  },
  {
   "cell_type": "raw",
   "id": "06003ccf-b95f-44bd-93ab-181c305ff6d5",
   "metadata": {},
   "source": [
    "# 52) How Do You Check the Presence of a Key in A Dictionary?\n",
    "\n",
    "To check the presence of a key in a Python dictionary, use these methods:\n",
    "\n",
    "1. Using the in Keyword\n",
    "my_dict = {\"name\": \"Alice\", \"age\": 25, \"city\": \"New York\"}\n",
    "\n",
    "if \"name\" in my_dict:\n",
    "    print(\"Key 'name' exists.\")\n",
    "2. Using the not in Keyword\n",
    "if \"gender\" not in my_dict:\n",
    "    print(\"Key 'gender' does not exist.\")\n",
    "3. Using the .get() Method\n",
    "if my_dict.get(\"name\") is not None:\n",
    "    print(\"Key 'name' exists.\")\n",
    "These methods are efficient and avoid errors like KeyError."
   ]
  },
  {
   "cell_type": "code",
   "execution_count": 9,
   "id": "35966ae9-1acf-41c7-b754-bb9571f8a7d3",
   "metadata": {},
   "outputs": [
    {
     "name": "stdout",
     "output_type": "stream",
     "text": [
      "Dictionary: {1: 1, 2: 4, 3: 9, 4: 16, 5: 25, 6: 36, 7: 49, 8: 64, 9: 81, 10: 100, 11: 121, 12: 144, 13: 169, 14: 196, 15: 225}\n"
     ]
    }
   ],
   "source": [
    "# 53) Write a Python script to print a dictionary where the keys are numbers between 1 and 15. \n",
    "\n",
    "# Create a dictionary with keys between 1 and 15, values are squares of keys\n",
    "my_dict = {key: key**2 for key in range(1, 16)}\n",
    "\n",
    "# Print the dictionary\n",
    "print(\"Dictionary:\", my_dict)\n"
   ]
  },
  {
   "cell_type": "code",
   "execution_count": 10,
   "id": "313d8142-ad56-430f-af74-ce2edde7718e",
   "metadata": {},
   "outputs": [
    {
     "name": "stdout",
     "output_type": "stream",
     "text": [
      "All keys exist in the dictionary.\n"
     ]
    }
   ],
   "source": [
    "# 54) Write a Python program to check multiple keys exists in a dictionary.\n",
    "\n",
    "def check_keys_exist(dictionary, keys):\n",
    "    # Check if all keys in the list exist in the dictionary\n",
    "    return all(key in dictionary for key in keys)\n",
    "\n",
    "# Example dictionary\n",
    "my_dict = {\"name\": \"Alice\", \"age\": 25, \"city\": \"New York\"}\n",
    "\n",
    "# Keys to check\n",
    "keys_to_check = [\"name\", \"age\"]\n",
    "\n",
    "# Check and print result\n",
    "if check_keys_exist(my_dict, keys_to_check):\n",
    "    print(\"All keys exist in the dictionary.\")\n",
    "else:\n",
    "    print(\"Some keys are missing.\")\n"
   ]
  },
  {
   "cell_type": "code",
   "execution_count": 11,
   "id": "b43cd01f-05b6-44af-9c43-85afcd62aa9a",
   "metadata": {},
   "outputs": [
    {
     "name": "stdout",
     "output_type": "stream",
     "text": [
      "Merged Dictionary: {'name': 'Alice', 'age': 25, 'city': 'New York', 'country': 'USA'}\n"
     ]
    }
   ],
   "source": [
    "# 55) Write a Python script to merge two Python dictionaries \n",
    "\n",
    "# Define two dictionaries\n",
    "dict1 = {\"name\": \"Alice\", \"age\": 25}\n",
    "dict2 = {\"city\": \"New York\", \"country\": \"USA\"}\n",
    "\n",
    "# Merge dictionaries using the union operator (Python 3.9+)\n",
    "merged_dict = dict1 | dict2\n",
    "\n",
    "# Print the merged dictionary\n",
    "print(\"Merged Dictionary:\", merged_dict)\n"
   ]
  },
  {
   "cell_type": "code",
   "execution_count": 12,
   "id": "ee00a1e0-058c-442c-92c1-05e85af9656e",
   "metadata": {},
   "outputs": [
    {
     "name": "stdout",
     "output_type": "stream",
     "text": [
      "Mapped Dictionary: {'a': 400, 'b': 400, 'c': 300, 'd': 400}\n"
     ]
    }
   ],
   "source": [
    "# 56) Write a Python program to map two lists into a dictionary Sample output: Counter ({'a': 400, 'b': 400,’d’: 400, 'c': 300}).\n",
    "\n",
    "# Two sample lists\n",
    "keys = ['a', 'b', 'c', 'd']\n",
    "values = [400, 400, 300, 400]\n",
    "\n",
    "# Map the two lists into a dictionary\n",
    "result = dict(zip(keys, values))\n",
    "\n",
    "# Print the resulting dictionary\n",
    "print(\"Mapped Dictionary:\", result)\n"
   ]
  },
  {
   "cell_type": "code",
   "execution_count": 13,
   "id": "e31ca4b7-e9f9-492d-8f96-d5ffa4a90bfd",
   "metadata": {},
   "outputs": [
    {
     "name": "stdout",
     "output_type": "stream",
     "text": [
      "Highest 3 values: [700, 600, 500]\n"
     ]
    }
   ],
   "source": [
    "# 57) Write a Python program to find the highest 3 values in a dictionary \n",
    "\n",
    "# Sample dictionary\n",
    "my_dict = {'a': 400, 'b': 300, 'c': 500, 'd': 700, 'e': 600}\n",
    "\n",
    "# Get the highest 3 values using sorted() and slicing\n",
    "highest_values = sorted(my_dict.values(), reverse=True)[:3]\n",
    "\n",
    "# Print the highest 3 values\n",
    "print(\"Highest 3 values:\", highest_values)\n"
   ]
  },
  {
   "cell_type": "code",
   "execution_count": 15,
   "id": "fca3be14-b5b7-466d-a7d7-7fabac294eb6",
   "metadata": {},
   "outputs": [
    {
     "name": "stdout",
     "output_type": "stream",
     "text": [
      "Combined Values: Counter({'item1': 1150, 'item2': 300})\n"
     ]
    }
   ],
   "source": [
    "# 58) Write a Python program to combine values in python list of dictionaries. \n",
    "     # Sample data: [{'item': 'item1', 'amount': 400}, {'item': 'item2', 'amount': \n",
    "     # 300}, o {'item': 'item1', 'amount': 750}] \n",
    "     # Expected Output:\n",
    "     # • Counter ({'item1': 1150, 'item2': 300})\n",
    "\n",
    "from collections import Counter\n",
    "\n",
    "# Sample data: list of dictionaries\n",
    "data = [{'item': 'item1', 'amount': 400}, {'item': 'item2', 'amount': 300}, {'item': 'item1', 'amount': 750}]\n",
    "\n",
    "# Create a Counter to accumulate the sum of amounts for each item\n",
    "result = Counter()\n",
    "\n",
    "# Iterate through the list of dictionaries and update the counter\n",
    "for entry in data:\n",
    "    result[entry['item']] += entry['amount']\n",
    "\n",
    "# Print the result\n",
    "print(\"Combined Values:\", result)\n"
   ]
  },
  {
   "cell_type": "code",
   "execution_count": 16,
   "id": "e218a490-2885-44d6-8d2f-7f36aa7f2850",
   "metadata": {},
   "outputs": [
    {
     "name": "stdout",
     "output_type": "stream",
     "text": [
      "Letter count dictionary: {'h': 1, 'e': 1, 'l': 3, 'o': 2, 'w': 1, 'r': 1, 'd': 1}\n"
     ]
    }
   ],
   "source": [
    "# 59) Write a Python program to create a dictionary from a string. \n",
    "    # Note: Track the count of the letters from the string \n",
    "\n",
    "# Input string\n",
    "input_string = \"hello world\"\n",
    "\n",
    "# Create an empty dictionary to store the count of each letter\n",
    "letter_count = {}\n",
    "\n",
    "# Iterate through each character in the string\n",
    "for char in input_string:\n",
    "    # Only consider alphabetic characters and ignore spaces\n",
    "    if char.isalpha():\n",
    "        # Increment the count of the letter in the dictionary\n",
    "        letter_count[char] = letter_count.get(char, 0) + 1\n",
    "\n",
    "# Print the dictionary with letter counts\n",
    "print(\"Letter count dictionary:\", letter_count)\n"
   ]
  },
  {
   "cell_type": "code",
   "execution_count": 1,
   "id": "de530d61-85f9-40c8-b0fc-25aa7b36ac4b",
   "metadata": {},
   "outputs": [
    {
     "name": "stdout",
     "output_type": "stream",
     "text": [
      "{'w': 1, '3': 1, 'r': 2, 'e': 2, 's': 1, 'o': 1, 'u': 1, 'c': 1}\n"
     ]
    }
   ],
   "source": [
    "# 60) Sample string:\n",
    "#'    w3resource' Expected output:\n",
    "#     • {'3': 1,’s’: 1, 'r': 2, 'u': 1, 'w': 1, 'c': 1, 'e': 2, 'o': 1}\n",
    "\n",
    "from collections import Counter\n",
    "\n",
    "# Sample string\n",
    "sample_string = 'w3resource'\n",
    "\n",
    "# Count characters\n",
    "char_count = Counter(sample_string)\n",
    "\n",
    "# Print the result\n",
    "print(dict(char_count))\n",
    "\n"
   ]
  },
  {
   "cell_type": "code",
   "execution_count": 2,
   "id": "9ee6bf6c-8b2e-4908-9b6f-8695c16885cf",
   "metadata": {},
   "outputs": [
    {
     "name": "stdout",
     "output_type": "stream",
     "text": [
      "The factorial of 5 is 120\n"
     ]
    }
   ],
   "source": [
    "# 61) Write a Python function to calculate the factorial of a number (a nonnegative integer) \n",
    "\n",
    "def factorial(n):\n",
    "    \"\"\"\n",
    "    Calculate the factorial of a nonnegative integer.\n",
    "\n",
    "    Parameters:\n",
    "    n (int): The nonnegative integer.\n",
    "\n",
    "    Returns:\n",
    "    int: The factorial of the number.\n",
    "    \"\"\"\n",
    "    if n < 0:\n",
    "        raise ValueError(\"Factorial is not defined for negative numbers.\")\n",
    "    elif n == 0 or n == 1:\n",
    "        return 1\n",
    "    else:\n",
    "        result = 1\n",
    "        for i in range(2, n + 1):\n",
    "            result *= i\n",
    "        return result\n",
    "\n",
    "# Example usage\n",
    "number = 5\n",
    "print(f\"The factorial of {number} is {factorial(number)}\")\n"
   ]
  },
  {
   "cell_type": "code",
   "execution_count": 4,
   "id": "a285466a-22bf-4711-bf2e-c3d921ac4cbc",
   "metadata": {},
   "outputs": [
    {
     "name": "stdout",
     "output_type": "stream",
     "text": [
      "5 is in the range [1, 10]\n"
     ]
    }
   ],
   "source": [
    "# 62) Write a Python function to check whether a number is in a given range \n",
    "\n",
    "def is_in_range(number, start, end):\n",
    "    \"\"\"\n",
    "    Check if a number is in a given range [start, end].\n",
    "\n",
    "    Parameters:\n",
    "    number (int or float): The number to check.\n",
    "    start (int or float): The start of the range.\n",
    "    end (int or float): The end of the range.\n",
    "\n",
    "    Returns:\n",
    "    bool: True if the number is in the range, False otherwise.\n",
    "    \"\"\"\n",
    "    return start <= number <= end\n",
    "\n",
    "# Example usage\n",
    "number = 5\n",
    "range_start = 1\n",
    "range_end = 10\n",
    "\n",
    "if is_in_range(number, range_start, range_end):\n",
    "    print(f\"{number} is in the range [{range_start}, {range_end}]\")\n",
    "else:\n",
    "    print(f\"{number} is not in the range [{range_start}, {range_end}]\")\n"
   ]
  },
  {
   "cell_type": "code",
   "execution_count": 5,
   "id": "734d1938-9699-40a9-926d-6b362d66a318",
   "metadata": {},
   "outputs": [
    {
     "name": "stdout",
     "output_type": "stream",
     "text": [
      "6 is a perfect number.\n"
     ]
    }
   ],
   "source": [
    "#63) Write a Python function to check whether a number is perfect or not. \n",
    "\n",
    "def is_perfect_number(n):\n",
    "    \"\"\"\n",
    "    Check whether a number is a perfect number.\n",
    "\n",
    "    Parameters:\n",
    "    n (int): The number to check.\n",
    "\n",
    "    Returns:\n",
    "    bool: True if the number is perfect, False otherwise.\n",
    "    \"\"\"\n",
    "    if n <= 0:\n",
    "        return False\n",
    "\n",
    "    divisors_sum = sum(i for i in range(1, n) if n % i == 0)\n",
    "    return divisors_sum == n\n",
    "\n",
    "# Example usage\n",
    "number = 6\n",
    "if is_perfect_number(number):\n",
    "    print(f\"{number} is a perfect number.\")\n",
    "else:\n",
    "    print(f\"{number} is not a perfect number.\")\n"
   ]
  },
  {
   "cell_type": "code",
   "execution_count": 6,
   "id": "f8eeab78-9724-47b8-b555-a302ff75ad98",
   "metadata": {},
   "outputs": [
    {
     "name": "stdout",
     "output_type": "stream",
     "text": [
      "\"A man, a plan, a canal, Panama\" is a palindrome.\n"
     ]
    }
   ],
   "source": [
    "# 64) Write a Python function that checks whether a passed string is palindrome or not \n",
    "\n",
    "def is_palindrome(s):\n",
    "    \"\"\"\n",
    "    Check whether a string is a palindrome.\n",
    "\n",
    "    Parameters:\n",
    "    s (str): The string to check.\n",
    "\n",
    "    Returns:\n",
    "    bool: True if the string is a palindrome, False otherwise.\n",
    "    \"\"\"\n",
    "    # Remove spaces and convert to lowercase for consistent comparison\n",
    "    cleaned_string = ''.join(c.lower() for c in s if c.isalnum())\n",
    "    return cleaned_string == cleaned_string[::-1]\n",
    "\n",
    "# Example usage\n",
    "string = \"A man, a plan, a canal, Panama\"\n",
    "if is_palindrome(string):\n",
    "    print(f'\"{string}\" is a palindrome.')\n",
    "else:\n",
    "    print(f'\"{string}\" is not a palindrome.')\n"
   ]
  },
  {
   "cell_type": "raw",
   "id": "a06adf73-70f9-4a0a-b494-6f4b662e2ecf",
   "metadata": {},
   "source": [
    "# 65) How Many Basic Types of Functions Are Available in Python?  \n",
    "=>\n",
    "n Python, there are two basic types of functions:\n",
    "\n",
    "1. Built-in Functions\n",
    "These are functions provided by Python and are always available without the need to define them.\n",
    "Examples:\n",
    "print(): Prints a value.\n",
    "len(): Returns the length of an object.\n",
    "type(): Returns the type of an object.\n",
    "input(): Gets user input.\n",
    "sum(): Returns the sum of a sequence.\n",
    "Python has over 70 built-in functions. You can find a full list here in the official Python documentation.\n",
    "\n",
    "2. User-defined Functions\n",
    "These are functions created by the user to perform specific tasks.\n",
    "\n",
    "Defined using the def keyword.\n",
    "\n",
    "Example:\n",
    "\n",
    "python\n",
    "Copy code\n",
    "def greet(name):\n",
    "    return f\"Hello, {name}!\"\n",
    "\n",
    "print(greet(\"Alice\"))  # Output: Hello, Alice!\n",
    "Additional Categories of Functions:\n",
    "While the basic classification is as above, user-defined functions can be further categorized based on how they handle inputs and outputs:\n",
    "\n",
    "Functions with no arguments and no return value\n",
    "Functions with arguments but no return value\n",
    "Functions with arguments and return value\n",
    "Functions with no arguments but return value\n",
    "Summary\n",
    "Basic types: Built-in and User-defined.\n",
    "User-defined functions offer flexibility, while built-in functions cover common operations."
   ]
  },
  {
   "cell_type": "code",
   "execution_count": 7,
   "id": "b09e4457-7b89-4d12-89f9-45824bb09a97",
   "metadata": {},
   "outputs": [
    {
     "name": "stdout",
     "output_type": "stream",
     "text": [
      "Randomly selected item: 40\n"
     ]
    }
   ],
   "source": [
    "# 66) How can you pick a random item from a list or tuple?\n",
    "\n",
    "import random\n",
    "\n",
    "# Example list\n",
    "my_list = [10, 20, 30, 40, 50]\n",
    "\n",
    "# Pick a random item\n",
    "random_item = random.choice(my_list)\n",
    "\n",
    "print(f\"Randomly selected item: {random_item}\")\n"
   ]
  },
  {
   "cell_type": "code",
   "execution_count": 8,
   "id": "b2d4694b-7f6e-42b4-87d6-a779f60e0d1e",
   "metadata": {},
   "outputs": [
    {
     "name": "stdout",
     "output_type": "stream",
     "text": [
      "Randomly selected item: 50\n"
     ]
    }
   ],
   "source": [
    "# 67) How can you pick a random item from a range?\n",
    "\n",
    "import random\n",
    "\n",
    "# Example list\n",
    "my_list = [10, 20, 30, 40, 50]\n",
    "\n",
    "# Pick a random item\n",
    "random_item = random.choice(my_list)\n",
    "\n",
    "print(f\"Randomly selected item: {random_item}\")\n"
   ]
  },
  {
   "cell_type": "raw",
   "id": "38dc3727-8bbb-47cf-9032-cb3df7abf07b",
   "metadata": {},
   "source": [
    "# 68) How can you get a random number in python?\n",
    "\n",
    "n Python, you can use the random module to generate random numbers. Here are the most common ways to get random numbers:\n",
    "\n",
    "1. Generate a Random Integer\n",
    "Use random.randint(a, b) to generate a random integer between a and b (inclusive).\n",
    "import random\n",
    "\n",
    "# Generate a random integer between 1 and 10\n",
    "random_integer = random.randint(1, 10)\n",
    "print(f\"Random Integer: {random_integer}\")\n",
    "\n",
    "2. Generate a Random Float\n",
    "Use random.random() to generate a random float between 0.0 and 1.0.\n",
    "import random\n",
    "\n",
    "# Generate a random float between 0 and 1\n",
    "random_float = random.random()\n",
    "print(f\"Random Float: {random_float}\")\n",
    "\n",
    "3. Generate a Random Float in a Specified Range\n",
    "Use random.uniform(a, b) to generate a random float between a and b.\n",
    "import random\n",
    "\n",
    "# Generate a random float between 1.5 and 6.5\n",
    "random_float_range = random.uniform(1.5, 6.5)\n",
    "print(f\"Random Float in Range: {random_float_range}\")\n",
    "\n",
    "4. Generate a Random Number from a Range\n",
    "Use random.randrange(start, stop, step) to generate a random number from a range.import random\n",
    "\n",
    "# Generate a random number from 0 to 9 (step 2)\n",
    "random_range = random.randrange(0, 10, 2)\n",
    "print(f\"Random Number from Range: {random_range}\")\n",
    "\n",
    "5. Generate a Random Number from a Sequence\n",
    "Use random.choice() to select a random item from a list, tuple, or range.import random\n",
    "\n",
    "# Random number from a list\n",
    "random_choice = random.choice([5, 10, 15, 20])\n",
    "print(f\"Random Choice: {random_choice}\")\n",
    "\n",
    "6. Generate Random Numbers with Gaussian Distribution\n",
    "Use random.gauss(mu, sigma) to generate random numbers with a Gaussian distribution.import random\n",
    "\n",
    "# Generate a random number with mean=0 and standard deviation=1\n",
    "random_gaussian = random.gauss(0, 1)\n",
    "print(f\"Random Gaussian: {random_gaussian}\")\n",
    "\n"
   ]
  },
  {
   "cell_type": "code",
   "execution_count": 10,
   "id": "1ed7382c-b754-4988-905b-4f457e4c011f",
   "metadata": {},
   "outputs": [
    {
     "name": "stdout",
     "output_type": "stream",
     "text": [
      "2\n",
      "0.025010755222666936\n"
     ]
    }
   ],
   "source": [
    "# 69) How will you set the starting value in generating random numbers?\n",
    "\n",
    "import random\n",
    "\n",
    "# Set the seed\n",
    "random.seed(42)\n",
    "\n",
    "# Generate random numbers\n",
    "print(random.randint(1, 10))  # Always the same for a given seed\n",
    "print(random.random())        # Always the same for a given seed\n",
    " "
   ]
  },
  {
   "cell_type": "code",
   "execution_count": 11,
   "id": "caee5092-5730-4a05-8e7c-7217d858fdef",
   "metadata": {},
   "outputs": [
    {
     "name": "stdout",
     "output_type": "stream",
     "text": [
      "Shuffled List: [4, 5, 1, 2, 3]\n"
     ]
    }
   ],
   "source": [
    "# 70) How will you randomize the items of a list in place?\n",
    "\n",
    "import random\n",
    "\n",
    "# Example list\n",
    "my_list = [1, 2, 3, 4, 5]\n",
    "\n",
    "# Shuffle the list in place\n",
    "random.shuffle(my_list)\n",
    "\n",
    "print(f\"Shuffled List: {my_list}\")\n"
   ]
  },
  {
   "cell_type": "raw",
   "id": "27b461e7-a7d4-40aa-8a06-a23671eba7a6",
   "metadata": {},
   "source": [
    "# 71) What is File function in python? What are keywords to create and write file. \n",
    "=>\n",
    "In Python, working with files is a common task, and it can be done using the built-in open() function. The open() function is used to open a file and returns a file object, which you can use to read from or write to the file.\n",
    "\n",
    "File Functions in Python\n",
    "open(): Used to open a file, either for reading, writing, or appending. This function returns a file object that can be used to interact with the file.\n",
    "close(): Used to close a file after operations are done.\n",
    "read(): Reads the entire content of a file.\n",
    "readline(): Reads the file line by line.\n",
    "write(): Writes content to a file.\n",
    "writelines(): Writes a list of strings to a file.\n",
    "Keywords for Creating and Writing to a File\n",
    "When opening a file using open(), you need to specify the mode. The most commonly used modes for creating and writing to a file are:\n",
    "\n",
    "'w': Open the file for writing. If the file exists, it will be overwritten; if it does not exist, a new file will be created.\n",
    "'a': Open the file for appending. If the file exists, data is appended to it; if the file does not exist, it is created.\n",
    "'x': Open the file for exclusive creation. If the file already exists, the operation will fail."
   ]
  },
  {
   "cell_type": "raw",
   "id": "e82385c7-e0c7-46bd-baad-2f0de259ffe3",
   "metadata": {},
   "source": [
    "# 72) Write a Python program to read an entire text file. \n",
    "# =>\n",
    "#     To read an entire text file in Python, you can use the open() function along with the read() method.\n",
    "#     Here's a simple program that demonstrates how to read the entire contents of a file:\n",
    "\n",
    "# Open the file in read mode\n",
    "with open('example.txt', 'r') as file:\n",
    "    # Read the entire file content\n",
    "    content = file.read()\n",
    "\n",
    "# Print the content of the file\n",
    "print(content)\n"
   ]
  },
  {
   "cell_type": "code",
   "execution_count": 13,
   "id": "38c65038-19b5-4534-a1ee-b909dea34ac9",
   "metadata": {},
   "outputs": [
    {
     "name": "stdout",
     "output_type": "stream",
     "text": [
      "Updated content of the file:\n",
      "This is the new text being appended to the file.\n",
      "\n"
     ]
    }
   ],
   "source": [
    "# 73)  Write a Python program to append text to a file and display the text.\n",
    "\n",
    "# Define the text to append\n",
    "text_to_append = \"This is the new text being appended to the file.\\n\"\n",
    "\n",
    "# Open the file in append mode\n",
    "with open('example.txt', 'a') as file:\n",
    "    file.write(text_to_append)\n",
    "\n",
    "# Open the file in read mode to display the updated content\n",
    "with open('example.txt', 'r') as file:\n",
    "    content = file.read()\n",
    "\n",
    "# Display the updated content of the file\n",
    "print(\"Updated content of the file:\")\n",
    "print(content)\n"
   ]
  },
  {
   "cell_type": "code",
   "execution_count": 14,
   "id": "defa1452-e336-4d76-b958-8e0c3682e5fc",
   "metadata": {},
   "outputs": [
    {
     "name": "stdout",
     "output_type": "stream",
     "text": [
      "This is the new text being appended to the file.\n",
      "End of file reached after 1 lines.\n"
     ]
    }
   ],
   "source": [
    "# 74) Write a Python program to read first n lines of a file.\n",
    "\n",
    "def read_first_n_lines(filename, n):\n",
    "    try:\n",
    "        # Open the file in read mode\n",
    "        with open(filename, 'r') as file:\n",
    "            # Read and print the first n lines\n",
    "            for i in range(n):\n",
    "                line = file.readline()\n",
    "                if line:  # If line is not empty\n",
    "                    print(line, end='')  # Print without adding an extra newline\n",
    "                else:\n",
    "                    print(f\"End of file reached after {i} lines.\")\n",
    "                    break\n",
    "    except FileNotFoundError:\n",
    "        print(f\"The file {filename} does not exist.\")\n",
    "\n",
    "# Example usage\n",
    "filename = 'example.txt'\n",
    "n = 5  # Number of lines to read\n",
    "read_first_n_lines(filename, n)\n"
   ]
  },
  {
   "cell_type": "code",
   "execution_count": 15,
   "id": "670b3cf3-941c-4d2a-8565-be45acd9262f",
   "metadata": {},
   "outputs": [
    {
     "name": "stdout",
     "output_type": "stream",
     "text": [
      "This is the new text being appended to the file.\n"
     ]
    }
   ],
   "source": [
    "# 75) Write a Python program to read last n lines of a file. \n",
    "\n",
    "from collections import deque\n",
    "\n",
    "def read_last_n_lines(filename, n):\n",
    "    try:\n",
    "        with open(filename, 'r') as file:\n",
    "            # Use deque to store the last n lines\n",
    "            last_n_lines = deque(file, maxlen=n)\n",
    "        \n",
    "        # Print the last n lines\n",
    "        for line in last_n_lines:\n",
    "            print(line, end='')  # Print without adding an extra newline\n",
    "    except FileNotFoundError:\n",
    "        print(f\"The file {filename} does not exist.\")\n",
    "\n",
    "# Example usage\n",
    "filename = 'example.txt'\n",
    "n = 5  # Number of lines to read\n",
    "read_last_n_lines(filename, n)\n"
   ]
  },
  {
   "cell_type": "code",
   "execution_count": 16,
   "id": "2a494c48-92f7-477c-9ba4-e26f33bd1786",
   "metadata": {},
   "outputs": [
    {
     "name": "stdout",
     "output_type": "stream",
     "text": [
      "This is the new text being appended to the file.\n"
     ]
    }
   ],
   "source": [
    "# 76) Write a Python program to read a file line by line and store it into a list.\n",
    "\n",
    "def read_file_to_list(filename):\n",
    "    try:\n",
    "        with open(filename, 'r') as file:\n",
    "            # Read lines from the file and store them in a list\n",
    "            lines = file.readlines()\n",
    "        \n",
    "        # Return the list of lines\n",
    "        return lines\n",
    "    except FileNotFoundError:\n",
    "        print(f\"The file {filename} does not exist.\")\n",
    "        return []\n",
    "\n",
    "# Example usage\n",
    "filename = 'example.txt'\n",
    "lines = read_file_to_list(filename)\n",
    "\n",
    "# Print the list of lines\n",
    "for line in lines:\n",
    "    print(line, end='')  # The end='' avoids adding extra newlines, as each line already has one.\n"
   ]
  },
  {
   "cell_type": "code",
   "execution_count": 18,
   "id": "3f040f68-02a5-429b-a131-4ee8b97be6ed",
   "metadata": {},
   "outputs": [
    {
     "name": "stdout",
     "output_type": "stream",
     "text": [
      "This is the new text being appended to the file.\n",
      "\n"
     ]
    }
   ],
   "source": [
    "# 77) Write a Python program to read a file line by line store it into a variable.\n",
    "\n",
    "def read_file_to_variable(filename):\n",
    "    content = \"\"  # Initialize an empty string to store the content\n",
    "    try:\n",
    "        with open(filename, 'r') as file:\n",
    "            # Read each line and store it in the variable\n",
    "            for line in file:\n",
    "                content += line  # Append each line to the content variable\n",
    "        return content\n",
    "    except FileNotFoundError:\n",
    "        print(f\"The file {filename} does not exist.\")\n",
    "        return \"\"\n",
    "\n",
    "# Example usage\n",
    "filename = 'example.txt'\n",
    "content = read_file_to_variable(filename)\n",
    "\n",
    "# Print the content of the file\n",
    "print(content)\n",
    "\n"
   ]
  },
  {
   "cell_type": "code",
   "execution_count": 20,
   "id": "62ed57a7-889c-41fa-bac9-b7613cc13e74",
   "metadata": {},
   "outputs": [
    {
     "name": "stdout",
     "output_type": "stream",
     "text": [
      "The longest word is: challenging.\n"
     ]
    }
   ],
   "source": [
    "# 78) Write a python program to find the longest words. \n",
    "\n",
    "def find_longest_word(text):\n",
    "    # Split the text into words (considering spaces as delimiters)\n",
    "    words = text.split()\n",
    "    \n",
    "    # Initialize the longest word as an empty string\n",
    "    longest_word = \"\"\n",
    "    \n",
    "    # Iterate through the words to find the longest one\n",
    "    for word in words:\n",
    "        # Update the longest word if the current word is longer\n",
    "        if len(word) > len(longest_word):\n",
    "            longest_word = word\n",
    "            \n",
    "    return longest_word\n",
    "\n",
    "# Example usage\n",
    "text = \"Python programming is both fun and challenging.\"\n",
    "longest_word = find_longest_word(text)\n",
    "\n",
    "print(\"The longest word is:\", longest_word)\n"
   ]
  },
  {
   "cell_type": "code",
   "execution_count": 21,
   "id": "03118621-b87a-4ec7-98cb-080c61a4d7fb",
   "metadata": {},
   "outputs": [
    {
     "name": "stdout",
     "output_type": "stream",
     "text": [
      "The number of lines in the file 'example.txt' is: 1\n"
     ]
    }
   ],
   "source": [
    "# 79) Write a Python program to count the number of lines in a text file. \n",
    "\n",
    "def count_lines_in_file(filename):\n",
    "    try:\n",
    "        # Open the file in read mode\n",
    "        with open(filename, 'r') as file:\n",
    "            # Initialize line count to 0\n",
    "            line_count = 0\n",
    "            \n",
    "            # Iterate through each line in the file\n",
    "            for line in file:\n",
    "                line_count += 1  # Increment the line count for each line\n",
    "            \n",
    "        return line_count\n",
    "    except FileNotFoundError:\n",
    "        print(f\"The file {filename} does not exist.\")\n",
    "        return 0\n",
    "\n",
    "# Example usage\n",
    "filename = 'example.txt'\n",
    "num_lines = count_lines_in_file(filename)\n",
    "\n",
    "# Print the number of lines\n",
    "print(f\"The number of lines in the file '{filename}' is: {num_lines}\")\n"
   ]
  },
  {
   "cell_type": "code",
   "execution_count": 24,
   "id": "6c3040b0-423a-4794-a460-83bd0d2f0703",
   "metadata": {},
   "outputs": [
    {
     "name": "stdout",
     "output_type": "stream",
     "text": [
      "'this': 1\n",
      "'is': 1\n",
      "'the': 2\n",
      "'new': 1\n",
      "'text': 1\n",
      "'being': 1\n",
      "'appended': 1\n",
      "'to': 1\n",
      "'file': 1\n"
     ]
    }
   ],
   "source": [
    "# 80) Write a Python program to count the frequency of words in a file. \n",
    "\n",
    "from collections import Counter\n",
    "import string\n",
    "\n",
    "def count_word_frequency(filename):\n",
    "    try:\n",
    "        # Open the file in read mode\n",
    "        with open(filename, 'r') as file:\n",
    "            # Read the entire content of the file\n",
    "            text = file.read()\n",
    "            \n",
    "            # Remove punctuation from the text\n",
    "            text = text.translate(str.maketrans('', '', string.punctuation))\n",
    "            \n",
    "            # Convert the text to lowercase to ensure case-insensitivity\n",
    "            text = text.lower()\n",
    "            \n",
    "            # Split the text into words\n",
    "            words = text.split()\n",
    "            \n",
    "            # Count the frequency of each word using Counter\n",
    "            word_count = Counter(words)\n",
    "        \n",
    "        return word_count\n",
    "    except FileNotFoundError:\n",
    "        print(f\"The file {filename} does not exist.\")\n",
    "        return {}\n",
    "\n",
    "# Example usage\n",
    "filename = 'example.txt'  # Replace with your filename\n",
    "word_frequencies = count_word_frequency(filename)\n",
    "\n",
    "# Print the word frequencies\n",
    "for word, frequency in word_frequencies.items():\n",
    "    print(f\"'{word}': {frequency}\")\n",
    "\n",
    "  \n"
   ]
  },
  {
   "cell_type": "code",
   "execution_count": 26,
   "id": "44520e93-42dd-4ca5-8f7d-a2840b71e108",
   "metadata": {},
   "outputs": [
    {
     "name": "stdout",
     "output_type": "stream",
     "text": [
      "The list has been successfully written to output.txt.\n"
     ]
    }
   ],
   "source": [
    "# 81) Write a Python program to write a list to a file. \n",
    "\n",
    "def write_list_to_file(filename, data_list):\n",
    "    try:\n",
    "        # Open the file in write mode ('w'), will create or overwrite the file\n",
    "        with open(filename, 'w') as file:\n",
    "            # Write each item of the list to the file\n",
    "            for item in data_list:\n",
    "                file.write(f\"{item}\\n\")  # Write each item followed by a newline\n",
    "        \n",
    "        print(f\"The list has been successfully written to {filename}.\")\n",
    "    except Exception as e:\n",
    "        print(f\"An error occurred: {e}\")\n",
    "\n",
    "# Example usage\n",
    "filename = 'output.txt'  # Specify the file name\n",
    "data_list = ['apple', 'banana', 'cherry', 'date']  # Example list to write\n",
    "\n",
    "write_list_to_file(filename, data_list)\n",
    "\n"
   ]
  },
  {
   "cell_type": "code",
   "execution_count": 29,
   "id": "69215ca1-e025-4578-a42c-7b74305d9c71",
   "metadata": {},
   "outputs": [
    {
     "name": "stdout",
     "output_type": "stream",
     "text": [
      "The file source.txt does not exist.\n"
     ]
    }
   ],
   "source": [
    "# 82) Write a Python program to copy the contents of a file to another file. \n",
    "\n",
    "import shutil\n",
    "\n",
    "def copy_file_contents(source_filename, destination_filename):\n",
    "    try:\n",
    "        # Use shutil to copy the file contents\n",
    "        shutil.copy(source_filename, destination_filename)\n",
    "        print(f\"Contents of {source_filename} have been copied to {destination_filename}.\")\n",
    "    except FileNotFoundError:\n",
    "        print(f\"The file {source_filename} does not exist.\")\n",
    "    except Exception as e:\n",
    "        print(f\"An error occurred: {e}\")\n",
    "\n",
    "# Example usage\n",
    "source_filename = 'source.txt'\n",
    "destination_filename = 'destination.txt'\n",
    "\n",
    "copy_file_contents(source_filename, destination_filename)\n",
    "\n"
   ]
  },
  {
   "cell_type": "raw",
   "id": "b5321f58-f8a5-4c8a-9bba-25515309eff3",
   "metadata": {},
   "source": [
    "# 83) Explain Exception handling? What is an Error in Python?\n",
    "\n",
    "Exception Handling in Python\n",
    "Exception handling is a mechanism in Python to gracefully handle runtime errors, allowing the program to continue execution or terminate in a controlled way. Instead of the program crashing when an error occurs, you can handle it using try, except, and optionally finally blocks.\n",
    "\n",
    "Components of Exception Handling:\n",
    "try block:\n",
    "\n",
    "The code that might raise an exception is placed inside the try block.\n",
    "except block:\n",
    "\n",
    "The code that handles the exception is written in the except block. Different exceptions can be handled by using specific exception types.\n",
    "else block (optional):\n",
    "\n",
    "Executes if no exception occurs in the try block.\n",
    "finally block (optional):\n",
    "\n",
    "Executes regardless of whether an exception occurs or not, often used for cleanup.\n",
    "\n",
    "What is an Error in Python?\n",
    "In Python, an error is a problem in the program that causes it to stop executing. Errors are broadly categorized into two types:\n",
    "\n",
    "Syntax Errors:\n",
    "\n",
    "These occur when the Python parser detects incorrect syntax.\n",
    "Example:\n",
    "if True\n",
    "    print(\"Hello\")\n",
    "(Missing colon in if statement will cause a syntax error.)\n",
    "Exceptions:\n",
    "\n",
    "These occur when a syntactically correct program tries to perform an operation that is not allowed.\n",
    "Example:\n",
    "print(10 / 0)\n",
    "(This will raise a ZeroDivisionError.)\n",
    "Common Types of Exceptions:\n",
    "ZeroDivisionError: Division by zero.\n",
    "ValueError: Invalid value for an operation.\n",
    "TypeError: Operation applied to an object of an inappropriate type.\n",
    "IndexError: Accessing an invalid index in a sequence.\n",
    "KeyError: Accessing a non-existent key in a dictionary.\n",
    "FileNotFoundError: Attempting to access a file that doesn’t exist.\n",
    "                                                                     "
   ]
  },
  {
   "cell_type": "raw",
   "id": "0e322eaf-85b0-4a04-ae06-cd2143fb631c",
   "metadata": {},
   "source": [
    "# 84) How many except statements can a try-except block have? Name Some built-in exception classes: \n",
    "\n",
    "A try block can have multiple except statements to handle different exceptions. Each except statement can handle a specific exception or a group of exceptions. Python will match the exception raised with the except blocks in the order they appear, and the first match is executed.\n",
    "Some Built-In Exception Classes in Python\n",
    "Here’s a list of commonly used built-in exception classes in Python:\n",
    "\n",
    "BaseException (Parent class for all exceptions)\n",
    "Exception (Base class for most exceptions derived from BaseException)\n",
    "ArithmeticError (Base class for arithmetic errors)\n",
    "ZeroDivisionError: Division or modulo by zero.\n",
    "OverflowError: Numeric operation exceeds its limit.\n",
    "FloatingPointError: Issues with floating-point operations.\n",
    "AttributeError: Accessing an attribute that doesn’t exist.\n",
    "ImportError: Failure to import a module.\n",
    "ModuleNotFoundError: A specific subclass of ImportError.\n",
    "IndexError: Accessing an invalid index in a sequence (e.g., list, tuple).\n",
    "KeyError: Accessing a non-existent key in a dictionary.\n",
    "TypeError: Operation applied to an object of an inappropriate type.\n",
    "ValueError: Operation receives a valid type but an invalid value.\n",
    "FileNotFoundError: File operation requested on a non-existent file.\n",
    "IOError: Input/output operation failure.\n",
    "OSError: Errors related to the operating system.\n",
    "NameError: Accessing a variable that is not defined.\n",
    "UnboundLocalError: Referencing a local variable before assignment.\n",
    "RuntimeError: Generic runtime error.\n",
    "StopIteration: Raised by iterators to signal the end of iteration.\n",
    "SyntaxError: Python syntax is invalid.\n",
    "IndentationError: Incorrect indentation.\n",
    "TabError: Mixing tabs and spaces.\n",
    "MemoryError: Memory allocation failure.\n",
    "RecursionError: Exceeding the maximum recursion depth."
   ]
  },
  {
   "cell_type": "raw",
   "id": "40105964-0847-4661-b2b5-54159f50c6ff",
   "metadata": {},
   "source": [
    "# 85) When will the else part of try-except-else be executed? \n",
    "\n",
    "he else part of a try-except-else block is executed only if no exception occurs in the try block. If an exception is raised and caught by any of the except blocks, the else block will not be executed.\n",
    "\n",
    "Flow of Execution:\n",
    "try block: The code inside the try block is executed first.\n",
    "except block: If an exception occurs in the try block, the corresponding except block is executed, and the else block is skipped.\n",
    "else block: If no exception occurs in the try block, the else block is executed.\n",
    "finally block (if present): The finally block is executed regardless of whether an exception occurred or not.\n"
   ]
  },
  {
   "cell_type": "raw",
   "id": "6bb11e0b-c0d2-416f-b948-c41141d59a1f",
   "metadata": {},
   "source": [
    "# 86) Can one block of except statements handle multiple exception?\n",
    "\n",
    "Yes, a single except block can handle multiple exceptions in Python. \n",
    "This is done by specifying the exceptions in a tuple within the except block. \n",
    "If an exception occurs and matches any of the exceptions in the tuple, the corresponding except block will handle it.\n",
    "\n",
    "In this example:\n",
    "\n",
    "ValueError occurs if the input is not a valid integer.\n",
    "ZeroDivisionError occurs if the user enters 0.\n",
    "\n",
    "Key Points:\n",
    "The exceptions in the tuple are treated as an OR condition, meaning the block will handle any of the specified exceptions.\n",
    "The variable (e.g., as e) captures the exception object, which can be used to retrieve details about the error."
   ]
  },
  {
   "cell_type": "raw",
   "id": "d26aeceb-15b0-4706-918c-5380cacf6a37",
   "metadata": {},
   "source": [
    "# 87) When is the finally block executed? \n",
    "\n",
    "The finally block in Python is executed regardless of whether an exception occurred or not in the try block. It is primarily used for cleanup actions, such as closing files, releasing resources, or other necessary final steps.\n",
    "\n",
    "When Is the finally Block Executed?\n",
    "No Exception Occurs:\n",
    "\n",
    "If the code in the try block runs successfully without raising an exception, the finally block is executed after the try block completes.\n",
    "Exception Is Raised and Handled:\n",
    "\n",
    "If an exception occurs in the try block and is caught by an except block, the finally block is executed after the except block finishes.\n",
    "Exception Is Raised but Not Handled:\n",
    "\n",
    "If an exception occurs in the try block and is not caught by any except block, the finally block is still executed before the program terminates with the uncaught exception.\n",
    "During return, break, or continue:\n",
    "\n",
    "If a return, break, or continue statement is encountered in the try or except block, the finally block is executed before the control flow leaves the try block."
   ]
  },
  {
   "cell_type": "raw",
   "id": "129ee19a-4443-416a-b4bb-4fb31dd9ce77",
   "metadata": {},
   "source": [
    "# 88) What happens when „1‟== 1 is executed?\n",
    "\n",
    "When the expression \"1\" == 1 is executed in Python, it evaluates to False.\n",
    "\n",
    "Why Does This Happen?\n",
    "Data Type Mismatch:\n",
    "\n",
    "\"1\" is a string, while 1 is an integer.\n",
    "The == operator checks for both value and type.\n",
    "Since the types differ (str vs int), Python evaluates the expression as False.\n",
    "No Implicit Type Conversion:\n",
    "\n",
    "Python does not automatically convert one data type to another when using ==.\n",
    "It directly compares the operands' values and types."
   ]
  },
  {
   "cell_type": "code",
   "execution_count": 1,
   "id": "59a62427-b756-4d66-87f9-fc6c5989d762",
   "metadata": {},
   "outputs": [
    {
     "name": "stdin",
     "output_type": "stream",
     "text": [
      "Enter a number:  5\n"
     ]
    },
    {
     "name": "stdout",
     "output_type": "stream",
     "text": [
      "Result: 2.0\n",
      "Execution completed.\n"
     ]
    }
   ],
   "source": [
    "# 89) How Do You Handle Exceptions with Try/Except/Finally in Python? Explain with coding snippets. \n",
    "\n",
    "#In Python, you can handle exceptions using the try, except, and finally blocks. This structure allows you to:\n",
    "\n",
    "# Write code that might raise an exception in the try block.\n",
    "# Handle specific exceptions or general exceptions in the except block(s).\n",
    "# Execute cleanup or mandatory actions in the finally block, regardless of whether an exception occurred.\n",
    "\n",
    "try:\n",
    "    number = int(input(\"Enter a number: \"))\n",
    "    result = 10 / number\n",
    "    print(f\"Result: {result}\")\n",
    "except ZeroDivisionError:\n",
    "    print(\"Error: You cannot divide by zero.\")\n",
    "except ValueError:\n",
    "    print(\"Error: Invalid input! Please enter an integer.\")\n",
    "finally:\n",
    "    print(\"Execution completed.\")\n"
   ]
  },
  {
   "cell_type": "code",
   "execution_count": 2,
   "id": "36245430-1278-429c-839b-a255d6e7d255",
   "metadata": {},
   "outputs": [
    {
     "name": "stdin",
     "output_type": "stream",
     "text": [
      "Enter an odd number:  5\n"
     ]
    },
    {
     "name": "stdout",
     "output_type": "stream",
     "text": [
      "Thank you! 5 is an odd number.\n"
     ]
    }
   ],
   "source": [
    "# 90) Write python program that user to enter only odd numbers, else will raise an exception.\n",
    "\n",
    "class NotOddNumberError(Exception):\n",
    "    \"\"\"Custom exception for invalid (non-odd) numbers.\"\"\"\n",
    "    pass\n",
    "\n",
    "def enter_odd_number():\n",
    "    try:\n",
    "        # Prompt user to enter a number\n",
    "        number = int(input(\"Enter an odd number: \"))\n",
    "        \n",
    "        # Check if the number is even\n",
    "        if number % 2 == 0:\n",
    "            raise NotOddNumberError(f\"{number} is not an odd number!\")\n",
    "        \n",
    "        # If valid, print success message\n",
    "        print(f\"Thank you! {number} is an odd number.\")\n",
    "    \n",
    "    except NotOddNumberError as e:\n",
    "        print(f\"Error: {e}\")\n",
    "    except ValueError:\n",
    "        print(\"Error: Invalid input! Please enter a valid integer.\")\n",
    "\n",
    "# Run the program\n",
    "enter_odd_number()\n"
   ]
  }
 ],
 "metadata": {
  "kernelspec": {
   "display_name": "Python 3 (ipykernel)",
   "language": "python",
   "name": "python3"
  },
  "language_info": {
   "codemirror_mode": {
    "name": "ipython",
    "version": 3
   },
   "file_extension": ".py",
   "mimetype": "text/x-python",
   "name": "python",
   "nbconvert_exporter": "python",
   "pygments_lexer": "ipython3",
   "version": "3.12.4"
  }
 },
 "nbformat": 4,
 "nbformat_minor": 5
}
